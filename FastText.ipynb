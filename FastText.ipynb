{
 "cells": [
  {
   "cell_type": "code",
   "execution_count": 2,
   "id": "85fa9bf7-0005-4743-b10a-d5c051282276",
   "metadata": {},
   "outputs": [],
   "source": [
    "import pandas as pd\n",
    "import numpy as np\n",
    "import nltk \n",
    "import string\n",
    "string.punctuation\n",
    "\n",
    "import re\n",
    "import configparser\n",
    "import matplotlib.pyplot as plt\n",
    "import seaborn as sns\n",
    "from sklearn.feature_extraction.text import CountVectorizer\n",
    "from nltk.corpus import stopwords \n",
    "from tqdm.auto import tqdm\n",
    "from nltk.tokenize import word_tokenize "
   ]
  },
  {
   "cell_type": "code",
   "execution_count": 3,
   "id": "67257a0a-be4b-4450-9b2b-ffefe4076184",
   "metadata": {},
   "outputs": [
    {
     "data": {
      "text/html": [
       "<div>\n",
       "<style scoped>\n",
       "    .dataframe tbody tr th:only-of-type {\n",
       "        vertical-align: middle;\n",
       "    }\n",
       "\n",
       "    .dataframe tbody tr th {\n",
       "        vertical-align: top;\n",
       "    }\n",
       "\n",
       "    .dataframe thead th {\n",
       "        text-align: right;\n",
       "    }\n",
       "</style>\n",
       "<table border=\"1\" class=\"dataframe\">\n",
       "  <thead>\n",
       "    <tr style=\"text-align: right;\">\n",
       "      <th></th>\n",
       "      <th>Time_submitted</th>\n",
       "      <th>Review</th>\n",
       "      <th>Rating</th>\n",
       "      <th>Total_thumbsup</th>\n",
       "      <th>Reply</th>\n",
       "    </tr>\n",
       "  </thead>\n",
       "  <tbody>\n",
       "    <tr>\n",
       "      <th>0</th>\n",
       "      <td>2022-07-09 15:00:00</td>\n",
       "      <td>Great music service, the audio is high quality...</td>\n",
       "      <td>5</td>\n",
       "      <td>2</td>\n",
       "      <td>NaN</td>\n",
       "    </tr>\n",
       "    <tr>\n",
       "      <th>1</th>\n",
       "      <td>2022-07-09 14:21:22</td>\n",
       "      <td>Please ignore previous negative rating. This a...</td>\n",
       "      <td>5</td>\n",
       "      <td>1</td>\n",
       "      <td>NaN</td>\n",
       "    </tr>\n",
       "    <tr>\n",
       "      <th>2</th>\n",
       "      <td>2022-07-09 13:27:32</td>\n",
       "      <td>This pop-up \"Get the best Spotify experience o...</td>\n",
       "      <td>4</td>\n",
       "      <td>0</td>\n",
       "      <td>NaN</td>\n",
       "    </tr>\n",
       "    <tr>\n",
       "      <th>3</th>\n",
       "      <td>2022-07-09 13:26:45</td>\n",
       "      <td>Really buggy and terrible to use as of recently</td>\n",
       "      <td>1</td>\n",
       "      <td>1</td>\n",
       "      <td>NaN</td>\n",
       "    </tr>\n",
       "    <tr>\n",
       "      <th>4</th>\n",
       "      <td>2022-07-09 13:20:49</td>\n",
       "      <td>Dear Spotify why do I get songs that I didn't ...</td>\n",
       "      <td>1</td>\n",
       "      <td>1</td>\n",
       "      <td>NaN</td>\n",
       "    </tr>\n",
       "    <tr>\n",
       "      <th>...</th>\n",
       "      <td>...</td>\n",
       "      <td>...</td>\n",
       "      <td>...</td>\n",
       "      <td>...</td>\n",
       "      <td>...</td>\n",
       "    </tr>\n",
       "    <tr>\n",
       "      <th>61589</th>\n",
       "      <td>2022-01-01 03:01:29</td>\n",
       "      <td>Even though it was communicated that lyrics fe...</td>\n",
       "      <td>1</td>\n",
       "      <td>6</td>\n",
       "      <td>NaN</td>\n",
       "    </tr>\n",
       "    <tr>\n",
       "      <th>61590</th>\n",
       "      <td>2022-01-01 02:13:40</td>\n",
       "      <td>Use to be sooo good back when I had it, and wh...</td>\n",
       "      <td>1</td>\n",
       "      <td>0</td>\n",
       "      <td>NaN</td>\n",
       "    </tr>\n",
       "    <tr>\n",
       "      <th>61591</th>\n",
       "      <td>2022-01-01 01:02:29</td>\n",
       "      <td>This app would be good if not for it taking ov...</td>\n",
       "      <td>2</td>\n",
       "      <td>10</td>\n",
       "      <td>NaN</td>\n",
       "    </tr>\n",
       "    <tr>\n",
       "      <th>61592</th>\n",
       "      <td>2022-01-01 00:49:23</td>\n",
       "      <td>The app is good hard to navigate and won't jus...</td>\n",
       "      <td>2</td>\n",
       "      <td>1</td>\n",
       "      <td>NaN</td>\n",
       "    </tr>\n",
       "    <tr>\n",
       "      <th>61593</th>\n",
       "      <td>2022-01-01 00:19:09</td>\n",
       "      <td>Its good but sometimes it doesnt load the musi...</td>\n",
       "      <td>4</td>\n",
       "      <td>0</td>\n",
       "      <td>NaN</td>\n",
       "    </tr>\n",
       "  </tbody>\n",
       "</table>\n",
       "<p>61594 rows × 5 columns</p>\n",
       "</div>"
      ],
      "text/plain": [
       "            Time_submitted                                             Review  \\\n",
       "0      2022-07-09 15:00:00  Great music service, the audio is high quality...   \n",
       "1      2022-07-09 14:21:22  Please ignore previous negative rating. This a...   \n",
       "2      2022-07-09 13:27:32  This pop-up \"Get the best Spotify experience o...   \n",
       "3      2022-07-09 13:26:45    Really buggy and terrible to use as of recently   \n",
       "4      2022-07-09 13:20:49  Dear Spotify why do I get songs that I didn't ...   \n",
       "...                    ...                                                ...   \n",
       "61589  2022-01-01 03:01:29  Even though it was communicated that lyrics fe...   \n",
       "61590  2022-01-01 02:13:40  Use to be sooo good back when I had it, and wh...   \n",
       "61591  2022-01-01 01:02:29  This app would be good if not for it taking ov...   \n",
       "61592  2022-01-01 00:49:23  The app is good hard to navigate and won't jus...   \n",
       "61593  2022-01-01 00:19:09  Its good but sometimes it doesnt load the musi...   \n",
       "\n",
       "       Rating  Total_thumbsup Reply  \n",
       "0           5               2   NaN  \n",
       "1           5               1   NaN  \n",
       "2           4               0   NaN  \n",
       "3           1               1   NaN  \n",
       "4           1               1   NaN  \n",
       "...       ...             ...   ...  \n",
       "61589       1               6   NaN  \n",
       "61590       1               0   NaN  \n",
       "61591       2              10   NaN  \n",
       "61592       2               1   NaN  \n",
       "61593       4               0   NaN  \n",
       "\n",
       "[61594 rows x 5 columns]"
      ]
     },
     "execution_count": 3,
     "metadata": {},
     "output_type": "execute_result"
    }
   ],
   "source": [
    "df = pd.read_csv(\"reviews.csv\")\n",
    "df"
   ]
  },
  {
   "cell_type": "code",
   "execution_count": 4,
   "id": "a213e1de-7356-44b5-a81b-0d4b02131bb6",
   "metadata": {},
   "outputs": [
    {
     "data": {
      "text/html": [
       "<div>\n",
       "<style scoped>\n",
       "    .dataframe tbody tr th:only-of-type {\n",
       "        vertical-align: middle;\n",
       "    }\n",
       "\n",
       "    .dataframe tbody tr th {\n",
       "        vertical-align: top;\n",
       "    }\n",
       "\n",
       "    .dataframe thead th {\n",
       "        text-align: right;\n",
       "    }\n",
       "</style>\n",
       "<table border=\"1\" class=\"dataframe\">\n",
       "  <thead>\n",
       "    <tr style=\"text-align: right;\">\n",
       "      <th></th>\n",
       "      <th>Review</th>\n",
       "      <th>Rating</th>\n",
       "    </tr>\n",
       "  </thead>\n",
       "  <tbody>\n",
       "    <tr>\n",
       "      <th>0</th>\n",
       "      <td>Great music service, the audio is high quality...</td>\n",
       "      <td>5</td>\n",
       "    </tr>\n",
       "    <tr>\n",
       "      <th>1</th>\n",
       "      <td>Please ignore previous negative rating. This a...</td>\n",
       "      <td>5</td>\n",
       "    </tr>\n",
       "    <tr>\n",
       "      <th>2</th>\n",
       "      <td>This pop-up \"Get the best Spotify experience o...</td>\n",
       "      <td>4</td>\n",
       "    </tr>\n",
       "    <tr>\n",
       "      <th>3</th>\n",
       "      <td>Really buggy and terrible to use as of recently</td>\n",
       "      <td>1</td>\n",
       "    </tr>\n",
       "    <tr>\n",
       "      <th>4</th>\n",
       "      <td>Dear Spotify why do I get songs that I didn't ...</td>\n",
       "      <td>1</td>\n",
       "    </tr>\n",
       "    <tr>\n",
       "      <th>...</th>\n",
       "      <td>...</td>\n",
       "      <td>...</td>\n",
       "    </tr>\n",
       "    <tr>\n",
       "      <th>61589</th>\n",
       "      <td>Even though it was communicated that lyrics fe...</td>\n",
       "      <td>1</td>\n",
       "    </tr>\n",
       "    <tr>\n",
       "      <th>61590</th>\n",
       "      <td>Use to be sooo good back when I had it, and wh...</td>\n",
       "      <td>1</td>\n",
       "    </tr>\n",
       "    <tr>\n",
       "      <th>61591</th>\n",
       "      <td>This app would be good if not for it taking ov...</td>\n",
       "      <td>2</td>\n",
       "    </tr>\n",
       "    <tr>\n",
       "      <th>61592</th>\n",
       "      <td>The app is good hard to navigate and won't jus...</td>\n",
       "      <td>2</td>\n",
       "    </tr>\n",
       "    <tr>\n",
       "      <th>61593</th>\n",
       "      <td>Its good but sometimes it doesnt load the musi...</td>\n",
       "      <td>4</td>\n",
       "    </tr>\n",
       "  </tbody>\n",
       "</table>\n",
       "<p>61594 rows × 2 columns</p>\n",
       "</div>"
      ],
      "text/plain": [
       "                                                  Review  Rating\n",
       "0      Great music service, the audio is high quality...       5\n",
       "1      Please ignore previous negative rating. This a...       5\n",
       "2      This pop-up \"Get the best Spotify experience o...       4\n",
       "3        Really buggy and terrible to use as of recently       1\n",
       "4      Dear Spotify why do I get songs that I didn't ...       1\n",
       "...                                                  ...     ...\n",
       "61589  Even though it was communicated that lyrics fe...       1\n",
       "61590  Use to be sooo good back when I had it, and wh...       1\n",
       "61591  This app would be good if not for it taking ov...       2\n",
       "61592  The app is good hard to navigate and won't jus...       2\n",
       "61593  Its good but sometimes it doesnt load the musi...       4\n",
       "\n",
       "[61594 rows x 2 columns]"
      ]
     },
     "execution_count": 4,
     "metadata": {},
     "output_type": "execute_result"
    }
   ],
   "source": [
    "df_1 = df[['Review','Rating']]\n",
    "df_1"
   ]
  },
  {
   "cell_type": "markdown",
   "id": "b55315db-880d-4dcb-a1b4-fcde97b86da7",
   "metadata": {},
   "source": [
    "# remove symbols"
   ]
  },
  {
   "cell_type": "code",
   "execution_count": 5,
   "id": "4989aa6b-1111-4712-8436-945eb40c7a67",
   "metadata": {},
   "outputs": [
    {
     "name": "stderr",
     "output_type": "stream",
     "text": [
      "C:\\temp\\ipykernel_2580\\111560.py:6: SettingWithCopyWarning: \n",
      "A value is trying to be set on a copy of a slice from a DataFrame.\n",
      "Try using .loc[row_indexer,col_indexer] = value instead\n",
      "\n",
      "See the caveats in the documentation: https://pandas.pydata.org/pandas-docs/stable/user_guide/indexing.html#returning-a-view-versus-a-copy\n",
      "  df_1['review'] = df_1['Review'].apply(lambda x: remove_punctuation(x))\n"
     ]
    }
   ],
   "source": [
    "#remove symbols and punctuation\n",
    "def remove_punctuation(txt):\n",
    "    txt_nopunct = \"\" .join([c for c in txt if c not in string.punctuation])\n",
    "    txt_nopunct = re.sub(\"(@[A-Za-z0-9]+)|([^0-9A-Za-z \\t])|(\\w+:\\/\\/\\S+)\",\" \", txt_nopunct)\n",
    "    return txt_nopunct\n",
    "df_1['review'] = df_1['Review'].apply(lambda x: remove_punctuation(x))\n"
   ]
  },
  {
   "cell_type": "markdown",
   "id": "bcd6f1a7-69c3-411e-a05c-f51a1e9efee4",
   "metadata": {},
   "source": [
    "# Tokenization"
   ]
  },
  {
   "cell_type": "code",
   "execution_count": 6,
   "id": "833f7854-2eba-45fa-a824-32ad009a62cd",
   "metadata": {},
   "outputs": [
    {
     "name": "stderr",
     "output_type": "stream",
     "text": [
      "C:\\temp\\ipykernel_2580\\491490844.py:5: SettingWithCopyWarning: \n",
      "A value is trying to be set on a copy of a slice from a DataFrame.\n",
      "Try using .loc[row_indexer,col_indexer] = value instead\n",
      "\n",
      "See the caveats in the documentation: https://pandas.pydata.org/pandas-docs/stable/user_guide/indexing.html#returning-a-view-versus-a-copy\n",
      "  df_1['review_token'] = df_1['review'].apply(lambda x: tokenize(x.lower()))\n"
     ]
    }
   ],
   "source": [
    "#tokenization\n",
    "def tokenize(txt):\n",
    "    tokens = re.split(' ', txt)\n",
    "    return tokens\n",
    "df_1['review_token'] = df_1['review'].apply(lambda x: tokenize(x.lower()))"
   ]
  },
  {
   "cell_type": "markdown",
   "id": "de40c414-68d3-4151-8737-410e4b27e33e",
   "metadata": {},
   "source": [
    "# remove stopwords"
   ]
  },
  {
   "cell_type": "code",
   "execution_count": 7,
   "id": "dd060233-a053-4b17-87e5-368c2010c37b",
   "metadata": {},
   "outputs": [
    {
     "name": "stderr",
     "output_type": "stream",
     "text": [
      "[nltk_data] Downloading package stopwords to\n",
      "[nltk_data]     C:\\Users\\USER\\AppData\\Roaming\\nltk_data...\n",
      "[nltk_data]   Package stopwords is already up-to-date!\n"
     ]
    },
    {
     "data": {
      "text/plain": [
       "True"
      ]
     },
     "execution_count": 7,
     "metadata": {},
     "output_type": "execute_result"
    }
   ],
   "source": [
    "import nltk\n",
    "nltk.download('stopwords')"
   ]
  },
  {
   "cell_type": "code",
   "execution_count": 8,
   "id": "46750eda-2a53-495d-8207-8064afa81802",
   "metadata": {},
   "outputs": [
    {
     "data": {
      "text/plain": [
       "['i', 'me', 'my', 'myself', 'we', 'our', 'ours', 'ourselves', 'you', \"you're\"]"
      ]
     },
     "execution_count": 8,
     "metadata": {},
     "output_type": "execute_result"
    }
   ],
   "source": [
    "stopwords = nltk.corpus.stopwords.words('english')\n",
    "stopwords[0:10]"
   ]
  },
  {
   "cell_type": "code",
   "execution_count": 9,
   "id": "67722a2a-123d-4714-b455-9aefeb556e0e",
   "metadata": {},
   "outputs": [],
   "source": [
    "def remove_stopwords(txt):\n",
    "    txt_clean = [word for word in txt if word not in stopwords]\n",
    "    return txt_clean\n",
    "df_1['review_stopwords'] = df_1['review_token'].apply(lambda x: remove_stopwords(x))"
   ]
  },
  {
   "cell_type": "code",
   "execution_count": 10,
   "id": "fbc4a528-80e3-4384-8bdc-dd45cff44bbd",
   "metadata": {},
   "outputs": [
    {
     "data": {
      "text/plain": [
       "['MARTIN_EXTENSIONS',\n",
       " 'NLTK_EXTENSIONS',\n",
       " 'ORIGINAL_ALGORITHM',\n",
       " '__abstractmethods__',\n",
       " '__class__',\n",
       " '__delattr__',\n",
       " '__dict__',\n",
       " '__dir__',\n",
       " '__doc__',\n",
       " '__eq__',\n",
       " '__format__',\n",
       " '__ge__',\n",
       " '__getattribute__',\n",
       " '__gt__',\n",
       " '__hash__',\n",
       " '__init__',\n",
       " '__init_subclass__',\n",
       " '__le__',\n",
       " '__lt__',\n",
       " '__module__',\n",
       " '__ne__',\n",
       " '__new__',\n",
       " '__reduce__',\n",
       " '__reduce_ex__',\n",
       " '__repr__',\n",
       " '__setattr__',\n",
       " '__sizeof__',\n",
       " '__str__',\n",
       " '__subclasshook__',\n",
       " '__weakref__',\n",
       " '_abc_impl',\n",
       " '_apply_rule_list',\n",
       " '_contains_vowel',\n",
       " '_ends_cvc',\n",
       " '_ends_double_consonant',\n",
       " '_has_positive_measure',\n",
       " '_is_consonant',\n",
       " '_measure',\n",
       " '_replace_suffix',\n",
       " '_step1a',\n",
       " '_step1b',\n",
       " '_step1c',\n",
       " '_step2',\n",
       " '_step3',\n",
       " '_step4',\n",
       " '_step5a',\n",
       " '_step5b',\n",
       " 'mode',\n",
       " 'pool',\n",
       " 'stem',\n",
       " 'vowels']"
      ]
     },
     "execution_count": 10,
     "metadata": {},
     "output_type": "execute_result"
    }
   ],
   "source": [
    "import nltk\n",
    "from nltk.stem import PorterStemmer\n",
    "ps = PorterStemmer()\n",
    "dir(ps)"
   ]
  },
  {
   "cell_type": "code",
   "execution_count": 11,
   "id": "2588090f-7604-4795-8555-74cb2a8a120b",
   "metadata": {},
   "outputs": [
    {
     "name": "stdout",
     "output_type": "stream",
     "text": [
      "coder\n",
      "code\n",
      "code\n"
     ]
    }
   ],
   "source": [
    "print(ps.stem('coder'))\n",
    "print(ps.stem('coding'))\n",
    "print(ps.stem('code'))"
   ]
  },
  {
   "cell_type": "code",
   "execution_count": 12,
   "id": "e0bd9b71-1de0-4c5d-85f0-89bac59b6102",
   "metadata": {},
   "outputs": [
    {
     "name": "stdout",
     "output_type": "stream",
     "text": [
      "allow\n",
      "allow\n",
      "allow\n"
     ]
    }
   ],
   "source": [
    "print(ps.stem('Allow'))\n",
    "print(ps.stem('Allowed'))\n",
    "print(ps.stem('Allow'))"
   ]
  },
  {
   "cell_type": "code",
   "execution_count": 13,
   "id": "2e674f4f-91a3-4dc7-beba-fdb094865be4",
   "metadata": {},
   "outputs": [
    {
     "name": "stdout",
     "output_type": "stream",
     "text": [
      "eat\n",
      "ate\n",
      "eaten\n"
     ]
    }
   ],
   "source": [
    "print(ps.stem('eat'))\n",
    "print(ps.stem('ate'))\n",
    "print(ps.stem('eaten'))"
   ]
  },
  {
   "cell_type": "code",
   "execution_count": 15,
   "id": "dcae5173-b492-4fb7-a075-feab095ffbc5",
   "metadata": {},
   "outputs": [
    {
     "name": "stdout",
     "output_type": "stream",
     "text": [
      "go\n",
      "went\n",
      "gone\n"
     ]
    }
   ],
   "source": [
    "print(ps.stem('go'))\n",
    "print(ps.stem('went'))\n",
    "print(ps.stem('gone'))"
   ]
  },
  {
   "cell_type": "markdown",
   "id": "dceec57c-62c0-4b99-b028-45392888c7e3",
   "metadata": {},
   "source": [
    "# Stemming"
   ]
  },
  {
   "cell_type": "code",
   "execution_count": 16,
   "id": "717a2cc5-d176-4ec3-aaf4-d41ba004f25f",
   "metadata": {},
   "outputs": [
    {
     "name": "stdout",
     "output_type": "stream",
     "text": [
      "CPU times: total: 24 s\n",
      "Wall time: 1min 12s\n"
     ]
    }
   ],
   "source": [
    "%%time\n",
    "def stemming(tokenized_text):\n",
    "    txt = [ps.stem(word) for word in tokenized_text]\n",
    "    return txt\n",
    "df_1['review_stemming'] = df_1['review_stopwords'].apply(lambda x: stemming(x))"
   ]
  },
  {
   "cell_type": "markdown",
   "id": "325669e2-9e4f-424a-a5b1-9c0881573d59",
   "metadata": {},
   "source": [
    "# Labeling"
   ]
  },
  {
   "cell_type": "code",
   "execution_count": 17,
   "id": "ec11367e-c97c-4b7b-8d0c-f31c22eb30f7",
   "metadata": {},
   "outputs": [
    {
     "data": {
      "text/html": [
       "<div>\n",
       "<style scoped>\n",
       "    .dataframe tbody tr th:only-of-type {\n",
       "        vertical-align: middle;\n",
       "    }\n",
       "\n",
       "    .dataframe tbody tr th {\n",
       "        vertical-align: top;\n",
       "    }\n",
       "\n",
       "    .dataframe thead th {\n",
       "        text-align: right;\n",
       "    }\n",
       "</style>\n",
       "<table border=\"1\" class=\"dataframe\">\n",
       "  <thead>\n",
       "    <tr style=\"text-align: right;\">\n",
       "      <th></th>\n",
       "      <th>Review</th>\n",
       "      <th>Rating</th>\n",
       "      <th>review</th>\n",
       "      <th>review_token</th>\n",
       "      <th>review_stopwords</th>\n",
       "      <th>review_stemming</th>\n",
       "      <th>sentiment</th>\n",
       "    </tr>\n",
       "  </thead>\n",
       "  <tbody>\n",
       "    <tr>\n",
       "      <th>0</th>\n",
       "      <td>Great music service, the audio is high quality...</td>\n",
       "      <td>5</td>\n",
       "      <td>Great music service the audio is high quality ...</td>\n",
       "      <td>[great, music, service, the, audio, is, high, ...</td>\n",
       "      <td>[great, music, service, audio, high, quality, ...</td>\n",
       "      <td>[great, music, servic, audio, high, qualiti, a...</td>\n",
       "      <td>Positive</td>\n",
       "    </tr>\n",
       "    <tr>\n",
       "      <th>1</th>\n",
       "      <td>Please ignore previous negative rating. This a...</td>\n",
       "      <td>5</td>\n",
       "      <td>Please ignore previous negative rating This ap...</td>\n",
       "      <td>[please, ignore, previous, negative, rating, t...</td>\n",
       "      <td>[please, ignore, previous, negative, rating, a...</td>\n",
       "      <td>[pleas, ignor, previou, neg, rate, app, super,...</td>\n",
       "      <td>Positive</td>\n",
       "    </tr>\n",
       "    <tr>\n",
       "      <th>2</th>\n",
       "      <td>This pop-up \"Get the best Spotify experience o...</td>\n",
       "      <td>4</td>\n",
       "      <td>This popup Get the best Spotify experience on ...</td>\n",
       "      <td>[this, popup, get, the, best, spotify, experie...</td>\n",
       "      <td>[popup, get, best, spotify, experience, androi...</td>\n",
       "      <td>[popup, get, best, spotifi, experi, android, 1...</td>\n",
       "      <td>Positive</td>\n",
       "    </tr>\n",
       "    <tr>\n",
       "      <th>3</th>\n",
       "      <td>Really buggy and terrible to use as of recently</td>\n",
       "      <td>1</td>\n",
       "      <td>Really buggy and terrible to use as of recently</td>\n",
       "      <td>[really, buggy, and, terrible, to, use, as, of...</td>\n",
       "      <td>[really, buggy, terrible, use, recently]</td>\n",
       "      <td>[realli, buggi, terribl, use, recent]</td>\n",
       "      <td>Negative</td>\n",
       "    </tr>\n",
       "    <tr>\n",
       "      <th>4</th>\n",
       "      <td>Dear Spotify why do I get songs that I didn't ...</td>\n",
       "      <td>1</td>\n",
       "      <td>Dear Spotify why do I get songs that I didnt p...</td>\n",
       "      <td>[dear, spotify, why, do, i, get, songs, that, ...</td>\n",
       "      <td>[dear, spotify, get, songs, didnt, put, playli...</td>\n",
       "      <td>[dear, spotifi, get, song, didnt, put, playlis...</td>\n",
       "      <td>Negative</td>\n",
       "    </tr>\n",
       "    <tr>\n",
       "      <th>5</th>\n",
       "      <td>The player controls sometimes disappear for no...</td>\n",
       "      <td>3</td>\n",
       "      <td>The player controls sometimes disappear for no...</td>\n",
       "      <td>[the, player, controls, sometimes, disappear, ...</td>\n",
       "      <td>[player, controls, sometimes, disappear, reaso...</td>\n",
       "      <td>[player, control, sometim, disappear, reason, ...</td>\n",
       "      <td>Neutral</td>\n",
       "    </tr>\n",
       "    <tr>\n",
       "      <th>6</th>\n",
       "      <td>I love the selection and the lyrics are provid...</td>\n",
       "      <td>5</td>\n",
       "      <td>I love the selection and the lyrics are provid...</td>\n",
       "      <td>[i, love, the, selection, and, the, lyrics, ar...</td>\n",
       "      <td>[love, selection, lyrics, provided, song, your...</td>\n",
       "      <td>[love, select, lyric, provid, song, your, listen]</td>\n",
       "      <td>Positive</td>\n",
       "    </tr>\n",
       "    <tr>\n",
       "      <th>7</th>\n",
       "      <td>Still extremely slow when changing storage to ...</td>\n",
       "      <td>3</td>\n",
       "      <td>Still extremely slow when changing storage to ...</td>\n",
       "      <td>[still, extremely, slow, when, changing, stora...</td>\n",
       "      <td>[still, extremely, slow, changing, storage, ex...</td>\n",
       "      <td>[still, extrem, slow, chang, storag, extern, s...</td>\n",
       "      <td>Neutral</td>\n",
       "    </tr>\n",
       "    <tr>\n",
       "      <th>8</th>\n",
       "      <td>It's a great app and the best mp3 music app I ...</td>\n",
       "      <td>5</td>\n",
       "      <td>Its a great app and the best mp3 music app I h...</td>\n",
       "      <td>[its, a, great, app, and, the, best, mp3, musi...</td>\n",
       "      <td>[great, app, best, mp3, music, app, ever, used...</td>\n",
       "      <td>[great, app, best, mp3, music, app, ever, use,...</td>\n",
       "      <td>Positive</td>\n",
       "    </tr>\n",
       "    <tr>\n",
       "      <th>9</th>\n",
       "      <td>I'm deleting this app, for the following reaso...</td>\n",
       "      <td>1</td>\n",
       "      <td>Im deleting this app for the following reasons...</td>\n",
       "      <td>[im, deleting, this, app, for, the, following,...</td>\n",
       "      <td>[im, deleting, app, following, reasons, app, f...</td>\n",
       "      <td>[im, delet, app, follow, reason, app, fail, bu...</td>\n",
       "      <td>Negative</td>\n",
       "    </tr>\n",
       "  </tbody>\n",
       "</table>\n",
       "</div>"
      ],
      "text/plain": [
       "                                              Review  Rating  \\\n",
       "0  Great music service, the audio is high quality...       5   \n",
       "1  Please ignore previous negative rating. This a...       5   \n",
       "2  This pop-up \"Get the best Spotify experience o...       4   \n",
       "3    Really buggy and terrible to use as of recently       1   \n",
       "4  Dear Spotify why do I get songs that I didn't ...       1   \n",
       "5  The player controls sometimes disappear for no...       3   \n",
       "6  I love the selection and the lyrics are provid...       5   \n",
       "7  Still extremely slow when changing storage to ...       3   \n",
       "8  It's a great app and the best mp3 music app I ...       5   \n",
       "9  I'm deleting this app, for the following reaso...       1   \n",
       "\n",
       "                                              review  \\\n",
       "0  Great music service the audio is high quality ...   \n",
       "1  Please ignore previous negative rating This ap...   \n",
       "2  This popup Get the best Spotify experience on ...   \n",
       "3    Really buggy and terrible to use as of recently   \n",
       "4  Dear Spotify why do I get songs that I didnt p...   \n",
       "5  The player controls sometimes disappear for no...   \n",
       "6  I love the selection and the lyrics are provid...   \n",
       "7  Still extremely slow when changing storage to ...   \n",
       "8  Its a great app and the best mp3 music app I h...   \n",
       "9  Im deleting this app for the following reasons...   \n",
       "\n",
       "                                        review_token  \\\n",
       "0  [great, music, service, the, audio, is, high, ...   \n",
       "1  [please, ignore, previous, negative, rating, t...   \n",
       "2  [this, popup, get, the, best, spotify, experie...   \n",
       "3  [really, buggy, and, terrible, to, use, as, of...   \n",
       "4  [dear, spotify, why, do, i, get, songs, that, ...   \n",
       "5  [the, player, controls, sometimes, disappear, ...   \n",
       "6  [i, love, the, selection, and, the, lyrics, ar...   \n",
       "7  [still, extremely, slow, when, changing, stora...   \n",
       "8  [its, a, great, app, and, the, best, mp3, musi...   \n",
       "9  [im, deleting, this, app, for, the, following,...   \n",
       "\n",
       "                                    review_stopwords  \\\n",
       "0  [great, music, service, audio, high, quality, ...   \n",
       "1  [please, ignore, previous, negative, rating, a...   \n",
       "2  [popup, get, best, spotify, experience, androi...   \n",
       "3           [really, buggy, terrible, use, recently]   \n",
       "4  [dear, spotify, get, songs, didnt, put, playli...   \n",
       "5  [player, controls, sometimes, disappear, reaso...   \n",
       "6  [love, selection, lyrics, provided, song, your...   \n",
       "7  [still, extremely, slow, changing, storage, ex...   \n",
       "8  [great, app, best, mp3, music, app, ever, used...   \n",
       "9  [im, deleting, app, following, reasons, app, f...   \n",
       "\n",
       "                                     review_stemming sentiment  \n",
       "0  [great, music, servic, audio, high, qualiti, a...  Positive  \n",
       "1  [pleas, ignor, previou, neg, rate, app, super,...  Positive  \n",
       "2  [popup, get, best, spotifi, experi, android, 1...  Positive  \n",
       "3              [realli, buggi, terribl, use, recent]  Negative  \n",
       "4  [dear, spotifi, get, song, didnt, put, playlis...  Negative  \n",
       "5  [player, control, sometim, disappear, reason, ...   Neutral  \n",
       "6  [love, select, lyric, provid, song, your, listen]  Positive  \n",
       "7  [still, extrem, slow, chang, storag, extern, s...   Neutral  \n",
       "8  [great, app, best, mp3, music, app, ever, use,...  Positive  \n",
       "9  [im, delet, app, follow, reason, app, fail, bu...  Negative  "
      ]
     },
     "execution_count": 17,
     "metadata": {},
     "output_type": "execute_result"
    }
   ],
   "source": [
    "#labeling dataset\n",
    "df_1.loc[df_1['Rating']  <= 2, 'sentiment'] = \"Negative\"\n",
    "df_1.loc[df_1['Rating']  >= 4, 'sentiment'] = \"Positive\"\n",
    "df_1.loc[df_1['Rating']  == 3, 'sentiment'] = \"Neutral\"\n",
    "df_1[:10]"
   ]
  },
  {
   "cell_type": "code",
   "execution_count": 18,
   "id": "9ce6135d-8d56-4011-9d76-35edcb1efcd9",
   "metadata": {},
   "outputs": [],
   "source": [
    "#remove sentiment netral\n",
    "df_1 = df_1.drop(df_1[df_1.Rating == 3].index)\n"
   ]
  },
  {
   "cell_type": "code",
   "execution_count": 19,
   "id": "0ba90751-cea8-4f66-ae72-b84e3fde17b2",
   "metadata": {},
   "outputs": [
    {
     "data": {
      "text/plain": [
       "<AxesSubplot:ylabel='sentiment'>"
      ]
     },
     "execution_count": 19,
     "metadata": {},
     "output_type": "execute_result"
    },
    {
     "data": {
      "image/png": "[encoded data removed]",
      "text/plain": [
       "<Figure size 432x288 with 1 Axes>"
      ]
     },
     "metadata": {},
     "output_type": "display_data"
    }
   ],
   "source": [
    "import matplotlib.pyplot as plt\n",
    "df_1['sentiment'].value_counts().plot.pie(autopct='%.2f')"
   ]
  },
  {
   "cell_type": "code",
   "execution_count": 20,
   "id": "d44d2605-f224-4cc0-ad9e-dd08c94a426a",
   "metadata": {},
   "outputs": [
    {
     "data": {
      "text/html": [
       "<div>\n",
       "<style scoped>\n",
       "    .dataframe tbody tr th:only-of-type {\n",
       "        vertical-align: middle;\n",
       "    }\n",
       "\n",
       "    .dataframe tbody tr th {\n",
       "        vertical-align: top;\n",
       "    }\n",
       "\n",
       "    .dataframe thead th {\n",
       "        text-align: right;\n",
       "    }\n",
       "</style>\n",
       "<table border=\"1\" class=\"dataframe\">\n",
       "  <thead>\n",
       "    <tr style=\"text-align: right;\">\n",
       "      <th></th>\n",
       "      <th>Review</th>\n",
       "      <th>Rating</th>\n",
       "      <th>review</th>\n",
       "      <th>review_token</th>\n",
       "      <th>review_stopwords</th>\n",
       "      <th>review_stemming</th>\n",
       "      <th>sentiment</th>\n",
       "    </tr>\n",
       "  </thead>\n",
       "  <tbody>\n",
       "    <tr>\n",
       "      <th>0</th>\n",
       "      <td>Great music service, the audio is high quality...</td>\n",
       "      <td>5</td>\n",
       "      <td>Great music service the audio is high quality ...</td>\n",
       "      <td>[great, music, service, the, audio, is, high, ...</td>\n",
       "      <td>[great, music, service, audio, high, quality, ...</td>\n",
       "      <td>[great, music, servic, audio, high, qualiti, a...</td>\n",
       "      <td>1</td>\n",
       "    </tr>\n",
       "    <tr>\n",
       "      <th>1</th>\n",
       "      <td>Please ignore previous negative rating. This a...</td>\n",
       "      <td>5</td>\n",
       "      <td>Please ignore previous negative rating This ap...</td>\n",
       "      <td>[please, ignore, previous, negative, rating, t...</td>\n",
       "      <td>[please, ignore, previous, negative, rating, a...</td>\n",
       "      <td>[pleas, ignor, previou, neg, rate, app, super,...</td>\n",
       "      <td>1</td>\n",
       "    </tr>\n",
       "    <tr>\n",
       "      <th>2</th>\n",
       "      <td>This pop-up \"Get the best Spotify experience o...</td>\n",
       "      <td>4</td>\n",
       "      <td>This popup Get the best Spotify experience on ...</td>\n",
       "      <td>[this, popup, get, the, best, spotify, experie...</td>\n",
       "      <td>[popup, get, best, spotify, experience, androi...</td>\n",
       "      <td>[popup, get, best, spotifi, experi, android, 1...</td>\n",
       "      <td>1</td>\n",
       "    </tr>\n",
       "    <tr>\n",
       "      <th>3</th>\n",
       "      <td>Really buggy and terrible to use as of recently</td>\n",
       "      <td>1</td>\n",
       "      <td>Really buggy and terrible to use as of recently</td>\n",
       "      <td>[really, buggy, and, terrible, to, use, as, of...</td>\n",
       "      <td>[really, buggy, terrible, use, recently]</td>\n",
       "      <td>[realli, buggi, terribl, use, recent]</td>\n",
       "      <td>2</td>\n",
       "    </tr>\n",
       "    <tr>\n",
       "      <th>4</th>\n",
       "      <td>Dear Spotify why do I get songs that I didn't ...</td>\n",
       "      <td>1</td>\n",
       "      <td>Dear Spotify why do I get songs that I didnt p...</td>\n",
       "      <td>[dear, spotify, why, do, i, get, songs, that, ...</td>\n",
       "      <td>[dear, spotify, get, songs, didnt, put, playli...</td>\n",
       "      <td>[dear, spotifi, get, song, didnt, put, playlis...</td>\n",
       "      <td>2</td>\n",
       "    </tr>\n",
       "    <tr>\n",
       "      <th>...</th>\n",
       "      <td>...</td>\n",
       "      <td>...</td>\n",
       "      <td>...</td>\n",
       "      <td>...</td>\n",
       "      <td>...</td>\n",
       "      <td>...</td>\n",
       "      <td>...</td>\n",
       "    </tr>\n",
       "    <tr>\n",
       "      <th>107</th>\n",
       "      <td>This app worked well until v8.6.98.900, when t...</td>\n",
       "      <td>1</td>\n",
       "      <td>This app worked well until v8698900 when tryin...</td>\n",
       "      <td>[this, app, worked, well, until, v8698900, whe...</td>\n",
       "      <td>[app, worked, well, v8698900, trying, install,...</td>\n",
       "      <td>[app, work, well, v8698900, tri, instal, newer...</td>\n",
       "      <td>2</td>\n",
       "    </tr>\n",
       "    <tr>\n",
       "      <th>108</th>\n",
       "      <td>I use to love this app, but I soon hated it be...</td>\n",
       "      <td>1</td>\n",
       "      <td>I use to love this app but I soon hated it bec...</td>\n",
       "      <td>[i, use, to, love, this, app, but, i, soon, ha...</td>\n",
       "      <td>[use, love, app, soon, hated, keeps, playing, ...</td>\n",
       "      <td>[use, love, app, soon, hate, keep, play, music...</td>\n",
       "      <td>2</td>\n",
       "    </tr>\n",
       "    <tr>\n",
       "      <th>109</th>\n",
       "      <td>Excellent music experience</td>\n",
       "      <td>5</td>\n",
       "      <td>Excellent music experience</td>\n",
       "      <td>[excellent, music, experience]</td>\n",
       "      <td>[excellent, music, experience]</td>\n",
       "      <td>[excel, music, experi]</td>\n",
       "      <td>1</td>\n",
       "    </tr>\n",
       "    <tr>\n",
       "      <th>110</th>\n",
       "      <td>This is an amazing app I use it all the time a...</td>\n",
       "      <td>5</td>\n",
       "      <td>This is an amazing app I use it all the time a...</td>\n",
       "      <td>[this, is, an, amazing, app, i, use, it, all, ...</td>\n",
       "      <td>[amazing, app, use, time, affordable, looking,...</td>\n",
       "      <td>[amaz, app, use, time, afford, look, app, lift...</td>\n",
       "      <td>1</td>\n",
       "    </tr>\n",
       "    <tr>\n",
       "      <th>111</th>\n",
       "      <td>Spotify has literally accounted for everything...</td>\n",
       "      <td>5</td>\n",
       "      <td>Spotify has literally accounted for everything...</td>\n",
       "      <td>[spotify, has, literally, accounted, for, ever...</td>\n",
       "      <td>[spotify, literally, accounted, everything, co...</td>\n",
       "      <td>[spotifi, liter, account, everyth, come, best,...</td>\n",
       "      <td>1</td>\n",
       "    </tr>\n",
       "  </tbody>\n",
       "</table>\n",
       "<p>100 rows × 7 columns</p>\n",
       "</div>"
      ],
      "text/plain": [
       "                                                Review  Rating  \\\n",
       "0    Great music service, the audio is high quality...       5   \n",
       "1    Please ignore previous negative rating. This a...       5   \n",
       "2    This pop-up \"Get the best Spotify experience o...       4   \n",
       "3      Really buggy and terrible to use as of recently       1   \n",
       "4    Dear Spotify why do I get songs that I didn't ...       1   \n",
       "..                                                 ...     ...   \n",
       "107  This app worked well until v8.6.98.900, when t...       1   \n",
       "108  I use to love this app, but I soon hated it be...       1   \n",
       "109                         Excellent music experience       5   \n",
       "110  This is an amazing app I use it all the time a...       5   \n",
       "111  Spotify has literally accounted for everything...       5   \n",
       "\n",
       "                                                review  \\\n",
       "0    Great music service the audio is high quality ...   \n",
       "1    Please ignore previous negative rating This ap...   \n",
       "2    This popup Get the best Spotify experience on ...   \n",
       "3      Really buggy and terrible to use as of recently   \n",
       "4    Dear Spotify why do I get songs that I didnt p...   \n",
       "..                                                 ...   \n",
       "107  This app worked well until v8698900 when tryin...   \n",
       "108  I use to love this app but I soon hated it bec...   \n",
       "109                         Excellent music experience   \n",
       "110  This is an amazing app I use it all the time a...   \n",
       "111  Spotify has literally accounted for everything...   \n",
       "\n",
       "                                          review_token  \\\n",
       "0    [great, music, service, the, audio, is, high, ...   \n",
       "1    [please, ignore, previous, negative, rating, t...   \n",
       "2    [this, popup, get, the, best, spotify, experie...   \n",
       "3    [really, buggy, and, terrible, to, use, as, of...   \n",
       "4    [dear, spotify, why, do, i, get, songs, that, ...   \n",
       "..                                                 ...   \n",
       "107  [this, app, worked, well, until, v8698900, whe...   \n",
       "108  [i, use, to, love, this, app, but, i, soon, ha...   \n",
       "109                     [excellent, music, experience]   \n",
       "110  [this, is, an, amazing, app, i, use, it, all, ...   \n",
       "111  [spotify, has, literally, accounted, for, ever...   \n",
       "\n",
       "                                      review_stopwords  \\\n",
       "0    [great, music, service, audio, high, quality, ...   \n",
       "1    [please, ignore, previous, negative, rating, a...   \n",
       "2    [popup, get, best, spotify, experience, androi...   \n",
       "3             [really, buggy, terrible, use, recently]   \n",
       "4    [dear, spotify, get, songs, didnt, put, playli...   \n",
       "..                                                 ...   \n",
       "107  [app, worked, well, v8698900, trying, install,...   \n",
       "108  [use, love, app, soon, hated, keeps, playing, ...   \n",
       "109                     [excellent, music, experience]   \n",
       "110  [amazing, app, use, time, affordable, looking,...   \n",
       "111  [spotify, literally, accounted, everything, co...   \n",
       "\n",
       "                                       review_stemming  sentiment  \n",
       "0    [great, music, servic, audio, high, qualiti, a...          1  \n",
       "1    [pleas, ignor, previou, neg, rate, app, super,...          1  \n",
       "2    [popup, get, best, spotifi, experi, android, 1...          1  \n",
       "3                [realli, buggi, terribl, use, recent]          2  \n",
       "4    [dear, spotifi, get, song, didnt, put, playlis...          2  \n",
       "..                                                 ...        ...  \n",
       "107  [app, work, well, v8698900, tri, instal, newer...          2  \n",
       "108  [use, love, app, soon, hate, keep, play, music...          2  \n",
       "109                             [excel, music, experi]          1  \n",
       "110  [amaz, app, use, time, afford, look, app, lift...          1  \n",
       "111  [spotifi, liter, account, everyth, come, best,...          1  \n",
       "\n",
       "[100 rows x 7 columns]"
      ]
     },
     "execution_count": 20,
     "metadata": {},
     "output_type": "execute_result"
    }
   ],
   "source": [
    "df_1[\"sentiment\"].value_counts()\n",
    "cleanup_nums = {\"sentiment\":     {\"Negative\":2, \"Positive\": 1,}}\n",
    "df_1 = df_1.replace(cleanup_nums)\n",
    "df_1.head(100)"
   ]
  },
  {
   "cell_type": "code",
   "execution_count": 21,
   "id": "2fc1dcc3-5f98-47e3-8944-f5bac1ec2520",
   "metadata": {},
   "outputs": [
    {
     "data": {
      "text/html": [
       "<div>\n",
       "<style scoped>\n",
       "    .dataframe tbody tr th:only-of-type {\n",
       "        vertical-align: middle;\n",
       "    }\n",
       "\n",
       "    .dataframe tbody tr th {\n",
       "        vertical-align: top;\n",
       "    }\n",
       "\n",
       "    .dataframe thead th {\n",
       "        text-align: right;\n",
       "    }\n",
       "</style>\n",
       "<table border=\"1\" class=\"dataframe\">\n",
       "  <thead>\n",
       "    <tr style=\"text-align: right;\">\n",
       "      <th></th>\n",
       "      <th>review_stemming</th>\n",
       "      <th>sentiment</th>\n",
       "    </tr>\n",
       "  </thead>\n",
       "  <tbody>\n",
       "    <tr>\n",
       "      <th>0</th>\n",
       "      <td>[great, music, servic, audio, high, qualiti, a...</td>\n",
       "      <td>1</td>\n",
       "    </tr>\n",
       "    <tr>\n",
       "      <th>1</th>\n",
       "      <td>[pleas, ignor, previou, neg, rate, app, super,...</td>\n",
       "      <td>1</td>\n",
       "    </tr>\n",
       "    <tr>\n",
       "      <th>2</th>\n",
       "      <td>[popup, get, best, spotifi, experi, android, 1...</td>\n",
       "      <td>1</td>\n",
       "    </tr>\n",
       "    <tr>\n",
       "      <th>3</th>\n",
       "      <td>[realli, buggi, terribl, use, recent]</td>\n",
       "      <td>2</td>\n",
       "    </tr>\n",
       "    <tr>\n",
       "      <th>4</th>\n",
       "      <td>[dear, spotifi, get, song, didnt, put, playlis...</td>\n",
       "      <td>2</td>\n",
       "    </tr>\n",
       "    <tr>\n",
       "      <th>...</th>\n",
       "      <td>...</td>\n",
       "      <td>...</td>\n",
       "    </tr>\n",
       "    <tr>\n",
       "      <th>61589</th>\n",
       "      <td>[even, though, commun, lyric, featur, avail, u...</td>\n",
       "      <td>2</td>\n",
       "    </tr>\n",
       "    <tr>\n",
       "      <th>61590</th>\n",
       "      <td>[use, sooo, good, back, download, free, versio...</td>\n",
       "      <td>2</td>\n",
       "    </tr>\n",
       "    <tr>\n",
       "      <th>61591</th>\n",
       "      <td>[app, would, good, take, devic, start, comp, t...</td>\n",
       "      <td>2</td>\n",
       "    </tr>\n",
       "    <tr>\n",
       "      <th>61592</th>\n",
       "      <td>[app, good, hard, navig, wont, let, play, song...</td>\n",
       "      <td>2</td>\n",
       "    </tr>\n",
       "    <tr>\n",
       "      <th>61593</th>\n",
       "      <td>[good, sometim, doesnt, load, music, play, lik...</td>\n",
       "      <td>1</td>\n",
       "    </tr>\n",
       "  </tbody>\n",
       "</table>\n",
       "<p>54708 rows × 2 columns</p>\n",
       "</div>"
      ],
      "text/plain": [
       "                                         review_stemming  sentiment\n",
       "0      [great, music, servic, audio, high, qualiti, a...          1\n",
       "1      [pleas, ignor, previou, neg, rate, app, super,...          1\n",
       "2      [popup, get, best, spotifi, experi, android, 1...          1\n",
       "3                  [realli, buggi, terribl, use, recent]          2\n",
       "4      [dear, spotifi, get, song, didnt, put, playlis...          2\n",
       "...                                                  ...        ...\n",
       "61589  [even, though, commun, lyric, featur, avail, u...          2\n",
       "61590  [use, sooo, good, back, download, free, versio...          2\n",
       "61591  [app, would, good, take, devic, start, comp, t...          2\n",
       "61592  [app, good, hard, navig, wont, let, play, song...          2\n",
       "61593  [good, sometim, doesnt, load, music, play, lik...          1\n",
       "\n",
       "[54708 rows x 2 columns]"
      ]
     },
     "execution_count": 21,
     "metadata": {},
     "output_type": "execute_result"
    }
   ],
   "source": [
    "FastText = df_1[['review_stemming','sentiment']]\n",
    "FastText"
   ]
  },
  {
   "cell_type": "code",
   "execution_count": 22,
   "id": "38c320e7-e141-4a69-9883-3013cb95c8e2",
   "metadata": {},
   "outputs": [],
   "source": [
    "#w2v.to_csv(\"clear.csv\", index = False) "
   ]
  },
  {
   "cell_type": "code",
   "execution_count": 23,
   "id": "a4325083-3e20-4b1e-9650-4976aa79acff",
   "metadata": {},
   "outputs": [],
   "source": [
    "from tensorflow.keras.preprocessing.sequence import pad_sequences\n",
    "from tensorflow.keras.preprocessing.text import Tokenizer\n",
    "from tensorflow.keras.models import Sequential\n",
    "from tensorflow.keras.layers import Dense\n",
    "from tensorflow.keras.layers import Flatten\n",
    "from tensorflow.keras.layers import Embedding\n",
    "from tensorflow.keras.preprocessing import sequence\n",
    "import tensorflow as tf\n",
    "from tensorflow.keras.layers import Dense, LSTM\n",
    "from tensorflow.keras.models import Model\n",
    "from tensorflow.keras.models import Sequential\n",
    "\n",
    "from sklearn.model_selection import train_test_split\n",
    "from tensorflow.keras.layers import GlobalMaxPooling1D\n",
    "from tensorflow.keras.optimizers import Adam"
   ]
  },
  {
   "cell_type": "code",
   "execution_count": 24,
   "id": "afb660db-f9f6-4e41-b94e-8027512a3a48",
   "metadata": {},
   "outputs": [],
   "source": [
    "import seaborn as sns\n",
    "import matplotlib.pyplot as plt\n",
    "from tensorflow.keras.layers import Dense,Flatten,Embedding,Activation, Dropout\n",
    "from keras import layers\n",
    "from keras.layers import Bidirectional\n",
    "from keras.callbacks import *\n",
    "from sklearn.metrics import classification_report, confusion_matrix\n",
    "from sklearn.metrics import accuracy_score, precision_score, recall_score, f1_score\n",
    "from scipy import spatial\n",
    "from gensim.utils import simple_preprocess\n",
    "from keras.utils.vis_utils import plot_model\n",
    "from keras.models import load_model"
   ]
  },
  {
   "cell_type": "code",
   "execution_count": 25,
   "id": "639ecfea-3e85-450e-b8b1-97ff2c2603b4",
   "metadata": {},
   "outputs": [],
   "source": [
    "maxSeqLength=30\n",
    "text = df_1['review_stemming'].tolist()\n",
    "\n",
    "#tokenizer \n",
    "tokenizer = Tokenizer()\n",
    "tokenizer.fit_on_texts(text)\n",
    "\n",
    "#declaring\n",
    "size_of_vocabulary  = len(tokenizer.word_index) + 1\n",
    "\n",
    "#conversion to numerical\n",
    "encoded_text = tokenizer.texts_to_sequences(text)\n",
    "max_length = maxSeqLength\n",
    "X = sequence.pad_sequences(encoded_text, maxlen=max_length, padding='post')\n",
    "y = df_1['sentiment']"
   ]
  },
  {
   "cell_type": "code",
   "execution_count": 26,
   "id": "9266915d-0938-455b-9ac7-31d53cd1071c",
   "metadata": {},
   "outputs": [
    {
     "name": "stdout",
     "output_type": "stream",
     "text": [
      "(43766, 30) (43766,)\n",
      "(10942, 30) (10942,)\n"
     ]
    }
   ],
   "source": [
    "X_train, X_test, y_train, y_test = train_test_split(X, y, random_state = 42, test_size = 0.2, stratify = y)\n",
    "\n",
    "print(X_train.shape, y_train.shape)\n",
    "print(X_test.shape, y_test.shape)"
   ]
  },
  {
   "cell_type": "markdown",
   "id": "78ceda69-3383-4bb9-b04e-4dd288c0218d",
   "metadata": {},
   "source": [
    "# FastText"
   ]
  },
  {
   "cell_type": "code",
   "execution_count": 27,
   "id": "aca860a0-f896-490d-b441-b73b3eb99d7f",
   "metadata": {},
   "outputs": [
    {
     "name": "stdout",
     "output_type": "stream",
     "text": [
      "CPU times: total: 6min 14s\n",
      "Wall time: 8min 57s\n"
     ]
    }
   ],
   "source": [
    "%%time\n",
    "from gensim.models import KeyedVectors\n",
    "ar_model = KeyedVectors.load_word2vec_format(\"cc.en.300.vec\")"
   ]
  },
  {
   "cell_type": "code",
   "execution_count": 28,
   "id": "0c13ee39-72e4-4bf3-8cbf-8494e8f6f41a",
   "metadata": {},
   "outputs": [],
   "source": [
    "words_not_found = []\n",
    "embedding_dim = 300  \n",
    "embedding_matrix = np.zeros((size_of_vocabulary, embedding_dim))\n",
    "for word, i in tokenizer.word_index.items():\n",
    "    try:\n",
    "        embedding_vector = ar_model.get_vector(word)\n",
    "    except KeyError:\n",
    "        embedding_vector = None\n",
    "    if embedding_vector is not None:\n",
    "        embedding_matrix[i] = embedding_vector\n",
    "    else:\n",
    "        words_not_found.append(word)"
   ]
  },
  {
   "cell_type": "markdown",
   "id": "4c3406c9-6022-498a-a68e-9aaf93a94550",
   "metadata": {},
   "source": [
    "# LSTM"
   ]
  },
  {
   "cell_type": "code",
   "execution_count": 29,
   "id": "0fc3c7d2-ec9d-42c3-bd95-5f9e4b4dd60e",
   "metadata": {},
   "outputs": [],
   "source": [
    "UNITS = 64\n",
    "lr = 0.001"
   ]
  },
  {
   "cell_type": "code",
   "execution_count": 30,
   "id": "e26fdb02-15b0-4751-98fa-18da048f19a6",
   "metadata": {},
   "outputs": [
    {
     "name": "stdout",
     "output_type": "stream",
     "text": [
      "Model: \"sequential\"\n",
      "_________________________________________________________________\n",
      " Layer (type)                Output Shape              Param #   \n",
      "=================================================================\n",
      " embedding (Embedding)       (None, 30, 300)           6350100   \n",
      "                                                                 \n",
      " lstm (LSTM)                 (None, 30, 64)            93440     \n",
      "                                                                 \n",
      " global_max_pooling1d (Globa  (None, 64)               0         \n",
      " lMaxPooling1D)                                                  \n",
      "                                                                 \n",
      " dense (Dense)               (None, 64)                4160      \n",
      "                                                                 \n",
      " dense_1 (Dense)             (None, 3)                 195       \n",
      "                                                                 \n",
      "=================================================================\n",
      "Total params: 6,447,895\n",
      "Trainable params: 97,795\n",
      "Non-trainable params: 6,350,100\n",
      "_________________________________________________________________\n",
      "None\n"
     ]
    }
   ],
   "source": [
    "model1=Sequential()\n",
    "model1.add(Embedding(size_of_vocabulary,embedding_dim,weights=[embedding_matrix],input_length=max_length,trainable=False))\n",
    "\n",
    "#Lstm layer\n",
    "model1.add(LSTM(UNITS,return_sequences=True,dropout=0.5))\n",
    "\n",
    "#Global Maxpooling\n",
    "model1.add(GlobalMaxPooling1D())\n",
    "\n",
    "#Dense Layer\n",
    "model1.add(Dense(UNITS, activation='relu'))\n",
    "\n",
    "#Output layer 3 class\n",
    "model1.add(Dense(3,activation='softmax')) \n",
    "\n",
    "model1.compile(optimizer=Adam(learning_rate = lr), loss = 'sparse_categorical_crossentropy', metrics = ['acc']) \n",
    "print(model1.summary())"
   ]
  },
  {
   "cell_type": "code",
   "execution_count": 31,
   "id": "95ca8c48-1d9d-4c34-86fc-dde877e59e99",
   "metadata": {
    "tags": []
   },
   "outputs": [
    {
     "name": "stdout",
     "output_type": "stream",
     "text": [
      "Epoch 1/50\n",
      "545/548 [============================>.] - ETA: 0s - loss: 0.4426 - acc: 0.7948\n",
      "Epoch 1: val_acc improved from -inf to 0.83013, saving model to best_model_f1.h5\n",
      "548/548 [==============================] - 14s 23ms/step - loss: 0.4426 - acc: 0.7949 - val_loss: 0.3760 - val_acc: 0.8301\n",
      "Epoch 2/50\n",
      "547/548 [============================>.] - ETA: 0s - loss: 0.3669 - acc: 0.8416\n",
      "Epoch 2: val_acc improved from 0.83013 to 0.85001, saving model to best_model_f1.h5\n",
      "548/548 [==============================] - 12s 22ms/step - loss: 0.3669 - acc: 0.8416 - val_loss: 0.3440 - val_acc: 0.8500\n",
      "Epoch 3/50\n",
      "547/548 [============================>.] - ETA: 0s - loss: 0.3478 - acc: 0.8523\n",
      "Epoch 3: val_acc improved from 0.85001 to 0.86246, saving model to best_model_f1.h5\n",
      "548/548 [==============================] - 12s 22ms/step - loss: 0.3478 - acc: 0.8523 - val_loss: 0.3276 - val_acc: 0.8625\n",
      "Epoch 4/50\n",
      "546/548 [============================>.] - ETA: 0s - loss: 0.3343 - acc: 0.8608\n",
      "Epoch 4: val_acc improved from 0.86246 to 0.86772, saving model to best_model_f1.h5\n",
      "548/548 [==============================] - 12s 22ms/step - loss: 0.3342 - acc: 0.8609 - val_loss: 0.3214 - val_acc: 0.8677\n",
      "Epoch 5/50\n",
      "547/548 [============================>.] - ETA: 0s - loss: 0.3244 - acc: 0.8622\n",
      "Epoch 5: val_acc did not improve from 0.86772\n",
      "548/548 [==============================] - 12s 22ms/step - loss: 0.3244 - acc: 0.8622 - val_loss: 0.3208 - val_acc: 0.8659\n",
      "Epoch 6/50\n",
      "547/548 [============================>.] - ETA: 0s - loss: 0.3172 - acc: 0.8684\n",
      "Epoch 6: val_acc improved from 0.86772 to 0.87240, saving model to best_model_f1.h5\n",
      "548/548 [==============================] - 12s 22ms/step - loss: 0.3173 - acc: 0.8684 - val_loss: 0.3100 - val_acc: 0.8724\n",
      "Epoch 7/50\n",
      "547/548 [============================>.] - ETA: 0s - loss: 0.3098 - acc: 0.8719\n",
      "Epoch 7: val_acc improved from 0.87240 to 0.87423, saving model to best_model_f1.h5\n",
      "548/548 [==============================] - 12s 22ms/step - loss: 0.3098 - acc: 0.8719 - val_loss: 0.3068 - val_acc: 0.8742\n",
      "Epoch 8/50\n",
      "548/548 [==============================] - ETA: 0s - loss: 0.3051 - acc: 0.8735\n",
      "Epoch 8: val_acc improved from 0.87423 to 0.87549, saving model to best_model_f1.h5\n",
      "548/548 [==============================] - 12s 22ms/step - loss: 0.3051 - acc: 0.8735 - val_loss: 0.3067 - val_acc: 0.8755\n",
      "Epoch 9/50\n",
      "547/548 [============================>.] - ETA: 0s - loss: 0.2979 - acc: 0.8788\n",
      "Epoch 9: val_acc improved from 0.87549 to 0.87686, saving model to best_model_f1.h5\n",
      "548/548 [==============================] - 12s 22ms/step - loss: 0.2980 - acc: 0.8788 - val_loss: 0.3035 - val_acc: 0.8769\n",
      "Epoch 10/50\n",
      "545/548 [============================>.] - ETA: 0s - loss: 0.2911 - acc: 0.8804\n",
      "Epoch 10: val_acc did not improve from 0.87686\n",
      "548/548 [==============================] - 12s 22ms/step - loss: 0.2910 - acc: 0.8806 - val_loss: 0.3075 - val_acc: 0.8722\n",
      "Epoch 11/50\n",
      "545/548 [============================>.] - ETA: 0s - loss: 0.2894 - acc: 0.8810\n",
      "Epoch 11: val_acc did not improve from 0.87686\n",
      "548/548 [==============================] - 12s 22ms/step - loss: 0.2893 - acc: 0.8811 - val_loss: 0.3132 - val_acc: 0.8698\n",
      "Epoch 12/50\n",
      "546/548 [============================>.] - ETA: 0s - loss: 0.2856 - acc: 0.8826\n",
      "Epoch 12: val_acc improved from 0.87686 to 0.87880, saving model to best_model_f1.h5\n",
      "548/548 [==============================] - 12s 23ms/step - loss: 0.2855 - acc: 0.8826 - val_loss: 0.3004 - val_acc: 0.8788\n",
      "Epoch 13/50\n",
      "546/548 [============================>.] - ETA: 0s - loss: 0.2811 - acc: 0.8858\n",
      "Epoch 13: val_acc did not improve from 0.87880\n",
      "548/548 [==============================] - 12s 22ms/step - loss: 0.2811 - acc: 0.8858 - val_loss: 0.3012 - val_acc: 0.8759\n",
      "Epoch 14/50\n",
      "546/548 [============================>.] - ETA: 0s - loss: 0.2788 - acc: 0.8863\n",
      "Epoch 14: val_acc did not improve from 0.87880\n",
      "548/548 [==============================] - 12s 22ms/step - loss: 0.2787 - acc: 0.8864 - val_loss: 0.2992 - val_acc: 0.8774\n",
      "Epoch 15/50\n",
      "547/548 [============================>.] - ETA: 0s - loss: 0.2744 - acc: 0.8877\n",
      "Epoch 15: val_acc did not improve from 0.87880\n",
      "548/548 [==============================] - 12s 22ms/step - loss: 0.2744 - acc: 0.8877 - val_loss: 0.2993 - val_acc: 0.8785\n",
      "Epoch 16/50\n",
      "547/548 [============================>.] - ETA: 0s - loss: 0.2678 - acc: 0.8907\n",
      "Epoch 16: val_acc did not improve from 0.87880\n",
      "548/548 [==============================] - 12s 22ms/step - loss: 0.2678 - acc: 0.8907 - val_loss: 0.3016 - val_acc: 0.8786\n",
      "Epoch 17/50\n",
      "545/548 [============================>.] - ETA: 0s - loss: 0.2645 - acc: 0.8912\n",
      "Epoch 17: val_acc improved from 0.87880 to 0.87926, saving model to best_model_f1.h5\n",
      "548/548 [==============================] - 12s 23ms/step - loss: 0.2645 - acc: 0.8912 - val_loss: 0.2980 - val_acc: 0.8793\n",
      "Epoch 18/50\n",
      "547/548 [============================>.] - ETA: 0s - loss: 0.2609 - acc: 0.8951\n",
      "Epoch 18: val_acc improved from 0.87926 to 0.87983, saving model to best_model_f1.h5\n",
      "548/548 [==============================] - 12s 22ms/step - loss: 0.2609 - acc: 0.8951 - val_loss: 0.3016 - val_acc: 0.8798\n",
      "Epoch 19/50\n",
      "546/548 [============================>.] - ETA: 0s - loss: 0.2567 - acc: 0.8990\n",
      "Epoch 19: val_acc improved from 0.87983 to 0.87994, saving model to best_model_f1.h5\n",
      "548/548 [==============================] - 12s 22ms/step - loss: 0.2567 - acc: 0.8989 - val_loss: 0.3005 - val_acc: 0.8799\n",
      "Epoch 20/50\n",
      "546/548 [============================>.] - ETA: 0s - loss: 0.2554 - acc: 0.8977\n",
      "Epoch 20: val_acc did not improve from 0.87994\n",
      "548/548 [==============================] - 12s 23ms/step - loss: 0.2556 - acc: 0.8976 - val_loss: 0.3007 - val_acc: 0.8775\n",
      "Epoch 21/50\n",
      "546/548 [============================>.] - ETA: 0s - loss: 0.2526 - acc: 0.8978\n",
      "Epoch 21: val_acc did not improve from 0.87994\n",
      "548/548 [==============================] - 12s 22ms/step - loss: 0.2527 - acc: 0.8978 - val_loss: 0.3027 - val_acc: 0.8797\n",
      "Epoch 22/50\n",
      "546/548 [============================>.] - ETA: 0s - loss: 0.2479 - acc: 0.9004\n",
      "Epoch 22: val_acc did not improve from 0.87994\n",
      "548/548 [==============================] - 12s 22ms/step - loss: 0.2479 - acc: 0.9004 - val_loss: 0.3019 - val_acc: 0.8789\n",
      "Epoch 23/50\n",
      "545/548 [============================>.] - ETA: 0s - loss: 0.2452 - acc: 0.9013\n",
      "Epoch 23: val_acc did not improve from 0.87994\n",
      "548/548 [==============================] - 12s 22ms/step - loss: 0.2453 - acc: 0.9012 - val_loss: 0.3075 - val_acc: 0.8796\n",
      "Epoch 24/50\n",
      "547/548 [============================>.] - ETA: 0s - loss: 0.2399 - acc: 0.9045\n",
      "Epoch 24: val_acc did not improve from 0.87994\n",
      "548/548 [==============================] - 12s 22ms/step - loss: 0.2398 - acc: 0.9045 - val_loss: 0.3096 - val_acc: 0.8781\n",
      "Epoch 25/50\n",
      "546/548 [============================>.] - ETA: 0s - loss: 0.2398 - acc: 0.9041\n",
      "Epoch 25: val_acc did not improve from 0.87994\n",
      "548/548 [==============================] - 12s 22ms/step - loss: 0.2397 - acc: 0.9041 - val_loss: 0.3059 - val_acc: 0.8780\n",
      "Epoch 26/50\n",
      "546/548 [============================>.] - ETA: 0s - loss: 0.2351 - acc: 0.9067\n",
      "Epoch 26: val_acc did not improve from 0.87994\n",
      "548/548 [==============================] - 12s 22ms/step - loss: 0.2351 - acc: 0.9067 - val_loss: 0.3142 - val_acc: 0.8785\n",
      "Epoch 27/50\n",
      "545/548 [============================>.] - ETA: 0s - loss: 0.2367 - acc: 0.9041\n",
      "Epoch 27: val_acc did not improve from 0.87994\n",
      "548/548 [==============================] - 12s 22ms/step - loss: 0.2366 - acc: 0.9042 - val_loss: 0.3138 - val_acc: 0.8778\n",
      "Epoch 28/50\n",
      "546/548 [============================>.] - ETA: 0s - loss: 0.2293 - acc: 0.9085\n",
      "Epoch 28: val_acc did not improve from 0.87994\n",
      "548/548 [==============================] - 12s 22ms/step - loss: 0.2294 - acc: 0.9085 - val_loss: 0.3368 - val_acc: 0.8699\n",
      "Epoch 29/50\n",
      "545/548 [============================>.] - ETA: 0s - loss: 0.2294 - acc: 0.9080\n",
      "Epoch 29: val_acc did not improve from 0.87994\n",
      "548/548 [==============================] - 12s 22ms/step - loss: 0.2295 - acc: 0.9080 - val_loss: 0.3225 - val_acc: 0.8757\n",
      "Epoch 30/50\n",
      "545/548 [============================>.] - ETA: 0s - loss: 0.2278 - acc: 0.9091\n",
      "Epoch 30: val_acc did not improve from 0.87994\n",
      "548/548 [==============================] - 12s 22ms/step - loss: 0.2276 - acc: 0.9091 - val_loss: 0.3156 - val_acc: 0.8775\n",
      "Epoch 31/50\n",
      "547/548 [============================>.] - ETA: 0s - loss: 0.2250 - acc: 0.9086\n",
      "Epoch 31: val_acc did not improve from 0.87994\n",
      "548/548 [==============================] - 12s 22ms/step - loss: 0.2250 - acc: 0.9086 - val_loss: 0.3216 - val_acc: 0.8742\n",
      "Epoch 32/50\n",
      "547/548 [============================>.] - ETA: 0s - loss: 0.2207 - acc: 0.9106\n",
      "Epoch 32: val_acc did not improve from 0.87994\n",
      "548/548 [==============================] - 12s 23ms/step - loss: 0.2207 - acc: 0.9105 - val_loss: 0.3157 - val_acc: 0.8774\n",
      "Epoch 33/50\n",
      "546/548 [============================>.] - ETA: 0s - loss: 0.2178 - acc: 0.9145\n",
      "Epoch 33: val_acc did not improve from 0.87994\n",
      "548/548 [==============================] - 12s 22ms/step - loss: 0.2178 - acc: 0.9144 - val_loss: 0.3231 - val_acc: 0.8748\n",
      "Epoch 34/50\n",
      "547/548 [============================>.] - ETA: 0s - loss: 0.2153 - acc: 0.9137\n",
      "Epoch 34: val_acc did not improve from 0.87994\n",
      "548/548 [==============================] - 13s 23ms/step - loss: 0.2153 - acc: 0.9137 - val_loss: 0.3264 - val_acc: 0.8723\n",
      "Epoch 35/50\n",
      "548/548 [==============================] - ETA: 0s - loss: 0.2142 - acc: 0.9147\n",
      "Epoch 35: val_acc did not improve from 0.87994\n",
      "548/548 [==============================] - 13s 24ms/step - loss: 0.2142 - acc: 0.9147 - val_loss: 0.3207 - val_acc: 0.8753\n",
      "Epoch 36/50\n",
      "547/548 [============================>.] - ETA: 0s - loss: 0.2096 - acc: 0.9171\n",
      "Epoch 36: val_acc did not improve from 0.87994\n",
      "548/548 [==============================] - 14s 25ms/step - loss: 0.2095 - acc: 0.9171 - val_loss: 0.3266 - val_acc: 0.8775\n",
      "Epoch 37/50\n",
      "548/548 [==============================] - ETA: 0s - loss: 0.2081 - acc: 0.9162\n",
      "Epoch 37: val_acc did not improve from 0.87994\n",
      "548/548 [==============================] - 13s 24ms/step - loss: 0.2081 - acc: 0.9162 - val_loss: 0.3268 - val_acc: 0.8765\n",
      "Epoch 38/50\n",
      "546/548 [============================>.] - ETA: 0s - loss: 0.2049 - acc: 0.9184\n",
      "Epoch 38: val_acc did not improve from 0.87994\n",
      "548/548 [==============================] - 14s 25ms/step - loss: 0.2048 - acc: 0.9185 - val_loss: 0.3336 - val_acc: 0.8739\n",
      "Epoch 39/50\n",
      "548/548 [==============================] - ETA: 0s - loss: 0.2037 - acc: 0.9197\n",
      "Epoch 39: val_acc did not improve from 0.87994\n",
      "548/548 [==============================] - 13s 24ms/step - loss: 0.2037 - acc: 0.9197 - val_loss: 0.3429 - val_acc: 0.8746\n",
      "Epoch 40/50\n",
      "547/548 [============================>.] - ETA: 0s - loss: 0.1969 - acc: 0.9229\n",
      "Epoch 40: val_acc did not improve from 0.87994\n",
      "548/548 [==============================] - 13s 24ms/step - loss: 0.1969 - acc: 0.9229 - val_loss: 0.3346 - val_acc: 0.8754\n",
      "Epoch 41/50\n",
      "548/548 [==============================] - ETA: 0s - loss: 0.1977 - acc: 0.9208\n",
      "Epoch 41: val_acc did not improve from 0.87994\n",
      "548/548 [==============================] - 13s 24ms/step - loss: 0.1977 - acc: 0.9208 - val_loss: 0.3372 - val_acc: 0.8735\n",
      "Epoch 42/50\n",
      "547/548 [============================>.] - ETA: 0s - loss: 0.1979 - acc: 0.9220\n",
      "Epoch 42: val_acc did not improve from 0.87994\n",
      "548/548 [==============================] - 13s 24ms/step - loss: 0.1979 - acc: 0.9221 - val_loss: 0.3482 - val_acc: 0.8741\n",
      "Epoch 43/50\n",
      "546/548 [============================>.] - ETA: 0s - loss: 0.1961 - acc: 0.9218\n",
      "Epoch 43: val_acc did not improve from 0.87994\n",
      "548/548 [==============================] - 13s 24ms/step - loss: 0.1960 - acc: 0.9218 - val_loss: 0.3401 - val_acc: 0.8706\n",
      "Epoch 44/50\n",
      "548/548 [==============================] - ETA: 0s - loss: 0.1923 - acc: 0.9247\n",
      "Epoch 44: val_acc did not improve from 0.87994\n",
      "548/548 [==============================] - 13s 24ms/step - loss: 0.1923 - acc: 0.9247 - val_loss: 0.3436 - val_acc: 0.8724\n",
      "Epoch 45/50\n",
      "546/548 [============================>.] - ETA: 0s - loss: 0.1911 - acc: 0.9249\n",
      "Epoch 45: val_acc did not improve from 0.87994\n",
      "548/548 [==============================] - 13s 23ms/step - loss: 0.1911 - acc: 0.9249 - val_loss: 0.3614 - val_acc: 0.8690\n",
      "Epoch 46/50\n",
      "547/548 [============================>.] - ETA: 0s - loss: 0.1912 - acc: 0.9241\n",
      "Epoch 46: val_acc did not improve from 0.87994\n",
      "548/548 [==============================] - 13s 23ms/step - loss: 0.1912 - acc: 0.9241 - val_loss: 0.3611 - val_acc: 0.8694\n",
      "Epoch 47/50\n",
      "547/548 [============================>.] - ETA: 0s - loss: 0.1879 - acc: 0.9246\n",
      "Epoch 47: val_acc did not improve from 0.87994\n",
      "548/548 [==============================] - 13s 24ms/step - loss: 0.1879 - acc: 0.9245 - val_loss: 0.3538 - val_acc: 0.8743\n",
      "Epoch 48/50\n",
      "547/548 [============================>.] - ETA: 0s - loss: 0.1858 - acc: 0.9272\n",
      "Epoch 48: val_acc did not improve from 0.87994\n",
      "548/548 [==============================] - 13s 24ms/step - loss: 0.1858 - acc: 0.9272 - val_loss: 0.3555 - val_acc: 0.8767\n",
      "Epoch 49/50\n",
      "548/548 [==============================] - ETA: 0s - loss: 0.1845 - acc: 0.9257\n",
      "Epoch 49: val_acc did not improve from 0.87994\n",
      "548/548 [==============================] - 13s 24ms/step - loss: 0.1845 - acc: 0.9257 - val_loss: 0.3504 - val_acc: 0.8739\n",
      "Epoch 50/50\n",
      "546/548 [============================>.] - ETA: 0s - loss: 0.1826 - acc: 0.9285\n",
      "Epoch 50: val_acc did not improve from 0.87994\n",
      "548/548 [==============================] - 16s 29ms/step - loss: 0.1825 - acc: 0.9285 - val_loss: 0.3480 - val_acc: 0.8729\n",
      "CPU times: total: 30min 8s\n",
      "Wall time: 10min 31s\n"
     ]
    }
   ],
   "source": [
    "%%time\n",
    "mc1 = ModelCheckpoint('best_model_f1.h5', monitor='val_acc', mode='max', save_best_only=True,verbose=1)  \n",
    "history1 = model1.fit(X_train, y_train, batch_size=64, epochs=50, validation_split=0.2, verbose=1, callbacks=[mc1])"
   ]
  },
  {
   "cell_type": "code",
   "execution_count": 32,
   "id": "96973919-7e0e-4ecb-9139-e1d9a0f32bf3",
   "metadata": {},
   "outputs": [
    {
     "name": "stdout",
     "output_type": "stream",
     "text": [
      "Train: 0.9463\n"
     ]
    }
   ],
   "source": [
    "# Training Accuracy\n",
    "_, train_acc = model1.evaluate(X_train, y_train, verbose=0)\n",
    "print('Train: %.4f' % (train_acc))"
   ]
  },
  {
   "cell_type": "code",
   "execution_count": 33,
   "id": "4428171f-7e2b-4cf8-be0c-f045d89e409a",
   "metadata": {},
   "outputs": [],
   "source": [
    "with open('history_f1.json', 'w') as f:\n",
    "    json.dump(history1.history, f)"
   ]
  },
  {
   "cell_type": "code",
   "execution_count": 34,
   "id": "b15d9b1a-f62e-43ab-9fb9-cfd00a8dcdc7",
   "metadata": {},
   "outputs": [
    {
     "name": "stdout",
     "output_type": "stream",
     "text": [
      "dict_keys(['loss', 'acc', 'val_loss', 'val_acc'])\n"
     ]
    }
   ],
   "source": [
    "hist_f1 = json.load(open('history_f1.json'))\n",
    "print(hist_f1.keys())\n",
    "\n",
    "loss_f1 = hist_f1['loss']\n",
    "val_loss_f1 = hist_f1['val_loss']\n",
    "acc_f1 = hist_f1['acc']\n",
    "val_acc_f1 = hist_f1['val_acc']"
   ]
  },
  {
   "cell_type": "code",
   "execution_count": 35,
   "id": "d2198754-b072-4df8-8c2c-9eb53b2594a1",
   "metadata": {},
   "outputs": [
    {
     "data": {
      "image/png": "[encoded data removed]",
      "text/plain": [
       "<Figure size 720x360 with 1 Axes>"
      ]
     },
     "metadata": {
      "needs_background": "light"
     },
     "output_type": "display_data"
    },
    {
     "data": {
      "text/plain": [
       "<Figure size 432x288 with 0 Axes>"
      ]
     },
     "metadata": {},
     "output_type": "display_data"
    }
   ],
   "source": [
    "fig = plt.figure(figsize=(10,5))\n",
    "plt.rcParams[\"font.size\"] = \"18\"\n",
    "plt.plot(hist_f1['acc'])\n",
    "plt.plot(hist_f1['val_acc'])\n",
    "plt.ylabel('Accuracy')\n",
    "plt.xlabel('Epoch')\n",
    "plt.legend(['train', 'val'], loc='upper left')\n",
    "plt.figure()\n",
    "fig.savefig('FastText-1 Acc.png', dpi=300)"
   ]
  },
  {
   "cell_type": "code",
   "execution_count": 36,
   "id": "ab66452b-567e-41d8-8220-984a4355ef00",
   "metadata": {},
   "outputs": [
    {
     "data": {
      "image/png": "[encoded data removed]",
      "text/plain": [
       "<Figure size 720x360 with 1 Axes>"
      ]
     },
     "metadata": {
      "needs_background": "light"
     },
     "output_type": "display_data"
    },
    {
     "data": {
      "text/plain": [
       "<Figure size 432x288 with 0 Axes>"
      ]
     },
     "metadata": {},
     "output_type": "display_data"
    }
   ],
   "source": [
    "fig = plt.figure(figsize=(10,5))\n",
    "plt.rcParams[\"font.size\"] = \"18\"\n",
    "plt.plot(loss_f1, label='train')\n",
    "plt.plot(val_loss_f1, label='val')\n",
    "plt.ylabel('Loss')\n",
    "plt.xlabel('Epoch')\n",
    "plt.legend()\n",
    "plt.figure()\n",
    "fig.savefig('FastText-1 Loss.png', dpi=300)"
   ]
  },
  {
   "cell_type": "code",
   "execution_count": 37,
   "id": "23b65c14-60df-4387-a6df-2ffe6d467cc5",
   "metadata": {},
   "outputs": [
    {
     "name": "stdout",
     "output_type": "stream",
     "text": [
      "Validation Accuracy: 0.8799\n"
     ]
    }
   ],
   "source": [
    "# Validation Accuracy\n",
    "print(\"Validation Accuracy: %.4f\" % max(val_acc_f1))"
   ]
  },
  {
   "cell_type": "code",
   "execution_count": 38,
   "id": "40434a35-ff3a-4b0c-ab28-1ddd7e1640a6",
   "metadata": {},
   "outputs": [
    {
     "name": "stdout",
     "output_type": "stream",
     "text": [
      "CPU times: total: 0 ns\n",
      "Wall time: 0 ns\n",
      "342/342 [==============================] - 2s 5ms/step\n"
     ]
    }
   ],
   "source": [
    "# Testing Accuracy\n",
    "%time\n",
    "y_pred = model1.predict(X_test)\n",
    "y_pred = np.argmax(y_pred, axis=1)"
   ]
  },
  {
   "cell_type": "code",
   "execution_count": 39,
   "id": "e0fcb2a1-de4e-4ea3-8194-8ee88ed6cefb",
   "metadata": {},
   "outputs": [
    {
     "name": "stdout",
     "output_type": "stream",
     "text": [
      "Confusion Matrix\n",
      "tf.Tensor(\n",
      "[[   0    0    0]\n",
      " [   0 5241  747]\n",
      " [   0  639 4315]], shape=(3, 3), dtype=int32)\n",
      "------\n",
      "Classification Report\n",
      "              precision    recall  f1-score   support\n",
      "\n",
      "    positive       0.89      0.88      0.88      5988\n",
      "    negative       0.85      0.87      0.86      4954\n",
      "\n",
      "    accuracy                           0.87     10942\n",
      "   macro avg       0.87      0.87      0.87     10942\n",
      "weighted avg       0.87      0.87      0.87     10942\n",
      "\n"
     ]
    }
   ],
   "source": [
    "cm = tf.math.confusion_matrix(y_test, y_pred)\n",
    "print('Confusion Matrix')\n",
    "print(cm)\n",
    "print(\"------\")\n",
    "print('Classification Report')\n",
    "target_names = ['positive', 'negative']\n",
    "print(classification_report(y_test, y_pred, target_names=target_names ))"
   ]
  },
  {
   "cell_type": "code",
   "execution_count": null,
   "id": "ae9c0309-2424-4332-8892-423660cd08bb",
   "metadata": {},
   "outputs": [],
   "source": []
  }
 ],
 "metadata": {
  "kernelspec": {
   "display_name": "Python 3 (ipykernel)",
   "language": "python",
   "name": "python3"
  },
  "language_info": {
   "codemirror_mode": {
    "name": "ipython",
    "version": 3
   },
   "file_extension": ".py",
   "mimetype": "text/x-python",
   "name": "python",
   "nbconvert_exporter": "python",
   "pygments_lexer": "ipython3",
   "version": "3.9.7"
  }
 },
 "nbformat": 4,
 "nbformat_minor": 5
}
