{
 "cells": [
  {
   "cell_type": "code",
   "execution_count": 1,
   "id": "44f69164-2828-41d9-87e9-d7c02f0e252c",
   "metadata": {},
   "outputs": [
    {
     "data": {
      "text/html": [
       "<div>\n",
       "<style scoped>\n",
       "    .dataframe tbody tr th:only-of-type {\n",
       "        vertical-align: middle;\n",
       "    }\n",
       "\n",
       "    .dataframe tbody tr th {\n",
       "        vertical-align: top;\n",
       "    }\n",
       "\n",
       "    .dataframe thead th {\n",
       "        text-align: right;\n",
       "    }\n",
       "</style>\n",
       "<table border=\"1\" class=\"dataframe\">\n",
       "  <thead>\n",
       "    <tr style=\"text-align: right;\">\n",
       "      <th></th>\n",
       "      <th>content</th>\n",
       "      <th>score</th>\n",
       "    </tr>\n",
       "  </thead>\n",
       "  <tbody>\n",
       "    <tr>\n",
       "      <th>0</th>\n",
       "      <td>udah vaksin Ke 2 eh nggak terdaftar, ribeet ja...</td>\n",
       "      <td>1</td>\n",
       "    </tr>\n",
       "    <tr>\n",
       "      <th>1</th>\n",
       "      <td>Saya daftar ga bisa2,,,notifnya NIK dan nama t...</td>\n",
       "      <td>1</td>\n",
       "    </tr>\n",
       "    <tr>\n",
       "      <th>2</th>\n",
       "      <td>Tidak bisa diinstal di sistem android ini tida...</td>\n",
       "      <td>1</td>\n",
       "    </tr>\n",
       "    <tr>\n",
       "      <th>3</th>\n",
       "      <td>Karena saya ingin daftar tapi dari tadi gk bis...</td>\n",
       "      <td>1</td>\n",
       "    </tr>\n",
       "    <tr>\n",
       "      <th>4</th>\n",
       "      <td>Aplikasi dajjal, di upgrade malah setfikat g ada</td>\n",
       "      <td>1</td>\n",
       "    </tr>\n",
       "  </tbody>\n",
       "</table>\n",
       "</div>"
      ],
      "text/plain": [
       "                                             content  score\n",
       "0  udah vaksin Ke 2 eh nggak terdaftar, ribeet ja...      1\n",
       "1  Saya daftar ga bisa2,,,notifnya NIK dan nama t...      1\n",
       "2  Tidak bisa diinstal di sistem android ini tida...      1\n",
       "3  Karena saya ingin daftar tapi dari tadi gk bis...      1\n",
       "4   Aplikasi dajjal, di upgrade malah setfikat g ada      1"
      ]
     },
     "execution_count": 1,
     "metadata": {},
     "output_type": "execute_result"
    }
   ],
   "source": [
    "import pandas as pd\n",
    "\n",
    "data = pd.read_csv('Scraped_PeduliLindungi_28-12-22.csv')\n",
    "data.head()"
   ]
  },
  {
   "cell_type": "code",
   "execution_count": 2,
   "id": "595c69d4-fe87-440d-bcbe-931340866b6c",
   "metadata": {},
   "outputs": [
    {
     "data": {
      "text/plain": [
       "20000"
      ]
     },
     "execution_count": 2,
     "metadata": {},
     "output_type": "execute_result"
    }
   ],
   "source": [
    "df = data[['content','score']]\n",
    "df.head()\n",
    "len(df.index)"
   ]
  },
  {
   "cell_type": "code",
   "execution_count": 3,
   "id": "0dfbd65e-d11d-48e3-ba36-74d082955bd6",
   "metadata": {},
   "outputs": [],
   "source": [
    "df.loc[df.score > 3, 'Sentiment'] = \"POSITIF\"\n",
    "df.loc[df.score == 3, 'Sentiment'] = \"NETRAL\"\n",
    "df.loc[df.score < 3, 'Sentiment'] = \"NEGATIF\""
   ]
  },
  {
   "cell_type": "code",
   "execution_count": 4,
   "id": "15e06af2-cf2d-4022-9ab7-4e6dab98be35",
   "metadata": {},
   "outputs": [
    {
     "data": {
      "text/html": [
       "<div>\n",
       "<style scoped>\n",
       "    .dataframe tbody tr th:only-of-type {\n",
       "        vertical-align: middle;\n",
       "    }\n",
       "\n",
       "    .dataframe tbody tr th {\n",
       "        vertical-align: top;\n",
       "    }\n",
       "\n",
       "    .dataframe thead th {\n",
       "        text-align: right;\n",
       "    }\n",
       "</style>\n",
       "<table border=\"1\" class=\"dataframe\">\n",
       "  <thead>\n",
       "    <tr style=\"text-align: right;\">\n",
       "      <th></th>\n",
       "      <th>content</th>\n",
       "      <th>score</th>\n",
       "      <th>Sentiment</th>\n",
       "    </tr>\n",
       "  </thead>\n",
       "  <tbody>\n",
       "    <tr>\n",
       "      <th>0</th>\n",
       "      <td>udah vaksin Ke 2 eh nggak terdaftar, ribeet ja...</td>\n",
       "      <td>1</td>\n",
       "      <td>NEGATIF</td>\n",
       "    </tr>\n",
       "    <tr>\n",
       "      <th>1</th>\n",
       "      <td>Saya daftar ga bisa2,,,notifnya NIK dan nama t...</td>\n",
       "      <td>1</td>\n",
       "      <td>NEGATIF</td>\n",
       "    </tr>\n",
       "    <tr>\n",
       "      <th>2</th>\n",
       "      <td>Tidak bisa diinstal di sistem android ini tida...</td>\n",
       "      <td>1</td>\n",
       "      <td>NEGATIF</td>\n",
       "    </tr>\n",
       "    <tr>\n",
       "      <th>3</th>\n",
       "      <td>Karena saya ingin daftar tapi dari tadi gk bis...</td>\n",
       "      <td>1</td>\n",
       "      <td>NEGATIF</td>\n",
       "    </tr>\n",
       "    <tr>\n",
       "      <th>4</th>\n",
       "      <td>Aplikasi dajjal, di upgrade malah setfikat g ada</td>\n",
       "      <td>1</td>\n",
       "      <td>NEGATIF</td>\n",
       "    </tr>\n",
       "    <tr>\n",
       "      <th>5</th>\n",
       "      <td>Aplikasi ga berguna, udah capek capek patuh se...</td>\n",
       "      <td>1</td>\n",
       "      <td>NEGATIF</td>\n",
       "    </tr>\n",
       "    <tr>\n",
       "      <th>6</th>\n",
       "      <td>Bagaimana cara masuk ke akun peduliLindungi ??...</td>\n",
       "      <td>4</td>\n",
       "      <td>POSITIF</td>\n",
       "    </tr>\n",
       "    <tr>\n",
       "      <th>7</th>\n",
       "      <td>Good</td>\n",
       "      <td>5</td>\n",
       "      <td>POSITIF</td>\n",
       "    </tr>\n",
       "    <tr>\n",
       "      <th>8</th>\n",
       "      <td>Aplikasi belum siap update justru sertifikat v...</td>\n",
       "      <td>1</td>\n",
       "      <td>NEGATIF</td>\n",
       "    </tr>\n",
       "    <tr>\n",
       "      <th>9</th>\n",
       "      <td>Tolong klo update sekalian gede gedean jangan ...</td>\n",
       "      <td>3</td>\n",
       "      <td>NETRAL</td>\n",
       "    </tr>\n",
       "    <tr>\n",
       "      <th>10</th>\n",
       "      <td>Waspadalah semua vires ayo giatkan buang air m...</td>\n",
       "      <td>5</td>\n",
       "      <td>POSITIF</td>\n",
       "    </tr>\n",
       "    <tr>\n",
       "      <th>11</th>\n",
       "      <td>Update terbaruMalah diminta nyalakan bluetooth...</td>\n",
       "      <td>1</td>\n",
       "      <td>NEGATIF</td>\n",
       "    </tr>\n",
       "    <tr>\n",
       "      <th>12</th>\n",
       "      <td>Dengan senang hati saya dengan adanya vaksinasi</td>\n",
       "      <td>5</td>\n",
       "      <td>POSITIF</td>\n",
       "    </tr>\n",
       "    <tr>\n",
       "      <th>13</th>\n",
       "      <td>Oke</td>\n",
       "      <td>5</td>\n",
       "      <td>POSITIF</td>\n",
       "    </tr>\n",
       "    <tr>\n",
       "      <th>14</th>\n",
       "      <td>Gmn nasib App ini di thn depan ya.</td>\n",
       "      <td>1</td>\n",
       "      <td>NEGATIF</td>\n",
       "    </tr>\n",
       "    <tr>\n",
       "      <th>15</th>\n",
       "      <td>kok pas chekin punya saya eror terus ya?</td>\n",
       "      <td>1</td>\n",
       "      <td>NEGATIF</td>\n",
       "    </tr>\n",
       "    <tr>\n",
       "      <th>16</th>\n",
       "      <td>Banyak error</td>\n",
       "      <td>1</td>\n",
       "      <td>NEGATIF</td>\n",
       "    </tr>\n",
       "    <tr>\n",
       "      <th>17</th>\n",
       "      <td>Ini saya mau masuk ke peduli lindungi gimana s...</td>\n",
       "      <td>1</td>\n",
       "      <td>NEGATIF</td>\n",
       "    </tr>\n",
       "    <tr>\n",
       "      <th>18</th>\n",
       "      <td>Suka eror</td>\n",
       "      <td>1</td>\n",
       "      <td>NEGATIF</td>\n",
       "    </tr>\n",
       "    <tr>\n",
       "      <th>19</th>\n",
       "      <td>perna jadi sopir</td>\n",
       "      <td>3</td>\n",
       "      <td>NETRAL</td>\n",
       "    </tr>\n",
       "  </tbody>\n",
       "</table>\n",
       "</div>"
      ],
      "text/plain": [
       "                                              content  score Sentiment\n",
       "0   udah vaksin Ke 2 eh nggak terdaftar, ribeet ja...      1   NEGATIF\n",
       "1   Saya daftar ga bisa2,,,notifnya NIK dan nama t...      1   NEGATIF\n",
       "2   Tidak bisa diinstal di sistem android ini tida...      1   NEGATIF\n",
       "3   Karena saya ingin daftar tapi dari tadi gk bis...      1   NEGATIF\n",
       "4    Aplikasi dajjal, di upgrade malah setfikat g ada      1   NEGATIF\n",
       "5   Aplikasi ga berguna, udah capek capek patuh se...      1   NEGATIF\n",
       "6   Bagaimana cara masuk ke akun peduliLindungi ??...      4   POSITIF\n",
       "7                                                Good      5   POSITIF\n",
       "8   Aplikasi belum siap update justru sertifikat v...      1   NEGATIF\n",
       "9   Tolong klo update sekalian gede gedean jangan ...      3    NETRAL\n",
       "10  Waspadalah semua vires ayo giatkan buang air m...      5   POSITIF\n",
       "11  Update terbaruMalah diminta nyalakan bluetooth...      1   NEGATIF\n",
       "12    Dengan senang hati saya dengan adanya vaksinasi      5   POSITIF\n",
       "13                                                Oke      5   POSITIF\n",
       "14                 Gmn nasib App ini di thn depan ya.      1   NEGATIF\n",
       "15           kok pas chekin punya saya eror terus ya?      1   NEGATIF\n",
       "16                                       Banyak error      1   NEGATIF\n",
       "17  Ini saya mau masuk ke peduli lindungi gimana s...      1   NEGATIF\n",
       "18                                          Suka eror      1   NEGATIF\n",
       "19                                   perna jadi sopir      3    NETRAL"
      ]
     },
     "execution_count": 4,
     "metadata": {},
     "output_type": "execute_result"
    }
   ],
   "source": [
    "df.head(20)"
   ]
  },
  {
   "cell_type": "code",
   "execution_count": 6,
   "id": "96a1d2ce-5929-44be-bc72-b6099a8ad209",
   "metadata": {},
   "outputs": [
    {
     "data": {
      "text/plain": [
       "POSITIF    11027\n",
       "NEGATIF     7854\n",
       "NETRAL      1119\n",
       "Name: Sentiment, dtype: int64"
      ]
     },
     "execution_count": 6,
     "metadata": {},
     "output_type": "execute_result"
    }
   ],
   "source": [
    "df['Sentiment'].value_counts()"
   ]
  },
  {
   "cell_type": "code",
   "execution_count": 8,
   "id": "f1ec9e71-f860-4688-9395-4c4935441584",
   "metadata": {},
   "outputs": [
    {
     "data": {
      "text/plain": [
       "<AxesSubplot:ylabel='Sentiment'>"
      ]
     },
     "execution_count": 8,
     "metadata": {},
     "output_type": "execute_result"
    },
    {
     "data": {
      "image/png": "[encoded data removed]",
      "text/plain": [
       "<Figure size 432x288 with 1 Axes>"
      ]
     },
     "metadata": {},
     "output_type": "display_data"
    }
   ],
   "source": [
    "import matplotlib.pyplot as plt\n",
    "df['Sentiment'].value_counts().plot.pie(autopct='%.2f')"
   ]
  },
  {
   "cell_type": "code",
   "execution_count": 9,
   "id": "59583ff8-c428-45e2-969a-18d3fe698dc6",
   "metadata": {},
   "outputs": [
    {
     "data": {
      "text/html": [
       "<div>\n",
       "<style scoped>\n",
       "    .dataframe tbody tr th:only-of-type {\n",
       "        vertical-align: middle;\n",
       "    }\n",
       "\n",
       "    .dataframe tbody tr th {\n",
       "        vertical-align: top;\n",
       "    }\n",
       "\n",
       "    .dataframe thead th {\n",
       "        text-align: right;\n",
       "    }\n",
       "</style>\n",
       "<table border=\"1\" class=\"dataframe\">\n",
       "  <thead>\n",
       "    <tr style=\"text-align: right;\">\n",
       "      <th></th>\n",
       "      <th>content</th>\n",
       "      <th>score</th>\n",
       "      <th>Sentiment</th>\n",
       "    </tr>\n",
       "  </thead>\n",
       "  <tbody>\n",
       "    <tr>\n",
       "      <th>0</th>\n",
       "      <td>udah vaksin Ke 2 eh nggak terdaftar, ribeet ja...</td>\n",
       "      <td>1</td>\n",
       "      <td>NEGATIF</td>\n",
       "    </tr>\n",
       "    <tr>\n",
       "      <th>1</th>\n",
       "      <td>Saya daftar ga bisa2,,,notifnya NIK dan nama t...</td>\n",
       "      <td>1</td>\n",
       "      <td>NEGATIF</td>\n",
       "    </tr>\n",
       "    <tr>\n",
       "      <th>2</th>\n",
       "      <td>Tidak bisa diinstal di sistem android ini tida...</td>\n",
       "      <td>1</td>\n",
       "      <td>NEGATIF</td>\n",
       "    </tr>\n",
       "    <tr>\n",
       "      <th>3</th>\n",
       "      <td>Karena saya ingin daftar tapi dari tadi gk bis...</td>\n",
       "      <td>1</td>\n",
       "      <td>NEGATIF</td>\n",
       "    </tr>\n",
       "    <tr>\n",
       "      <th>4</th>\n",
       "      <td>Aplikasi dajjal, di upgrade malah setfikat g ada</td>\n",
       "      <td>1</td>\n",
       "      <td>NEGATIF</td>\n",
       "    </tr>\n",
       "  </tbody>\n",
       "</table>\n",
       "</div>"
      ],
      "text/plain": [
       "                                             content  score Sentiment\n",
       "0  udah vaksin Ke 2 eh nggak terdaftar, ribeet ja...      1   NEGATIF\n",
       "1  Saya daftar ga bisa2,,,notifnya NIK dan nama t...      1   NEGATIF\n",
       "2  Tidak bisa diinstal di sistem android ini tida...      1   NEGATIF\n",
       "3  Karena saya ingin daftar tapi dari tadi gk bis...      1   NEGATIF\n",
       "4   Aplikasi dajjal, di upgrade malah setfikat g ada      1   NEGATIF"
      ]
     },
     "execution_count": 9,
     "metadata": {},
     "output_type": "execute_result"
    }
   ],
   "source": [
    "df_1 = df.drop(df[df.score == 3].index)\n",
    "df_1.head()"
   ]
  },
  {
   "cell_type": "code",
   "execution_count": 10,
   "id": "e977ce8d-c904-47ed-85c2-bc6cd9736dd2",
   "metadata": {},
   "outputs": [
    {
     "data": {
      "text/plain": [
       "POSITIF    11027\n",
       "NEGATIF     7854\n",
       "Name: Sentiment, dtype: int64"
      ]
     },
     "execution_count": 10,
     "metadata": {},
     "output_type": "execute_result"
    }
   ],
   "source": [
    "df_1['Sentiment'].value_counts()"
   ]
  },
  {
   "cell_type": "code",
   "execution_count": 11,
   "id": "fb9f44f3-0fde-417e-a3ec-6766ca7a045e",
   "metadata": {},
   "outputs": [
    {
     "data": {
      "text/plain": [
       "<AxesSubplot:ylabel='Sentiment'>"
      ]
     },
     "execution_count": 11,
     "metadata": {},
     "output_type": "execute_result"
    },
    {
     "data": {
      "image/png": "[encoded data removed]",
      "text/plain": [
       "<Figure size 432x288 with 1 Axes>"
      ]
     },
     "metadata": {},
     "output_type": "display_data"
    }
   ],
   "source": [
    "df_1['Sentiment'].value_counts().plot.pie(autopct='%.2f')"
   ]
  },
  {
   "cell_type": "code",
   "execution_count": 12,
   "id": "9e56e8ef-de77-43da-aaf0-2598e178c03a",
   "metadata": {},
   "outputs": [
    {
     "data": {
      "text/html": [
       "<div>\n",
       "<style scoped>\n",
       "    .dataframe tbody tr th:only-of-type {\n",
       "        vertical-align: middle;\n",
       "    }\n",
       "\n",
       "    .dataframe tbody tr th {\n",
       "        vertical-align: top;\n",
       "    }\n",
       "\n",
       "    .dataframe thead th {\n",
       "        text-align: right;\n",
       "    }\n",
       "</style>\n",
       "<table border=\"1\" class=\"dataframe\">\n",
       "  <thead>\n",
       "    <tr style=\"text-align: right;\">\n",
       "      <th></th>\n",
       "      <th>content</th>\n",
       "      <th>Sentiment</th>\n",
       "    </tr>\n",
       "  </thead>\n",
       "  <tbody>\n",
       "    <tr>\n",
       "      <th>0</th>\n",
       "      <td>udah vaksin Ke 2 eh nggak terdaftar, ribeet ja...</td>\n",
       "      <td>NEGATIF</td>\n",
       "    </tr>\n",
       "    <tr>\n",
       "      <th>1</th>\n",
       "      <td>Saya daftar ga bisa2,,,notifnya NIK dan nama t...</td>\n",
       "      <td>NEGATIF</td>\n",
       "    </tr>\n",
       "    <tr>\n",
       "      <th>2</th>\n",
       "      <td>Tidak bisa diinstal di sistem android ini tida...</td>\n",
       "      <td>NEGATIF</td>\n",
       "    </tr>\n",
       "    <tr>\n",
       "      <th>3</th>\n",
       "      <td>Karena saya ingin daftar tapi dari tadi gk bis...</td>\n",
       "      <td>NEGATIF</td>\n",
       "    </tr>\n",
       "    <tr>\n",
       "      <th>4</th>\n",
       "      <td>Aplikasi dajjal, di upgrade malah setfikat g ada</td>\n",
       "      <td>NEGATIF</td>\n",
       "    </tr>\n",
       "  </tbody>\n",
       "</table>\n",
       "</div>"
      ],
      "text/plain": [
       "                                             content Sentiment\n",
       "0  udah vaksin Ke 2 eh nggak terdaftar, ribeet ja...   NEGATIF\n",
       "1  Saya daftar ga bisa2,,,notifnya NIK dan nama t...   NEGATIF\n",
       "2  Tidak bisa diinstal di sistem android ini tida...   NEGATIF\n",
       "3  Karena saya ingin daftar tapi dari tadi gk bis...   NEGATIF\n",
       "4   Aplikasi dajjal, di upgrade malah setfikat g ada   NEGATIF"
      ]
     },
     "execution_count": 12,
     "metadata": {},
     "output_type": "execute_result"
    }
   ],
   "source": [
    "df_clean = df_1[['content','Sentiment']]\n",
    "df_clean.head()"
   ]
  },
  {
   "cell_type": "code",
   "execution_count": null,
   "id": "34e9f0f3-71c4-47da-a715-d37c2d68f7c4",
   "metadata": {},
   "outputs": [],
   "source": []
  }
 ],
 "metadata": {
  "kernelspec": {
   "display_name": "Python 3 (ipykernel)",
   "language": "python",
   "name": "python3"
  },
  "language_info": {
   "codemirror_mode": {
    "name": "ipython",
    "version": 3
   },
   "file_extension": ".py",
   "mimetype": "text/x-python",
   "name": "python",
   "nbconvert_exporter": "python",
   "pygments_lexer": "ipython3",
   "version": "3.9.7"
  }
 },
 "nbformat": 4,
 "nbformat_minor": 5
}
