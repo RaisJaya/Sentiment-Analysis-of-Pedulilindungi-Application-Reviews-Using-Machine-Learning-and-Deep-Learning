{
 "cells": [
  {
   "cell_type": "code",
   "execution_count": 3,
   "id": "6e040b01-7907-4257-b6f7-efb6a477592a",
   "metadata": {},
   "outputs": [
    {
     "name": "stdout",
     "output_type": "stream",
     "text": [
      "Wall time: 12min 58s\n"
     ]
    }
   ],
   "source": [
    "%%time\n",
    "from gensim.models import fasttext\n",
    "model = fasttext.load_facebook_vectors('cc.id.300.bin')"
   ]
  },
  {
   "cell_type": "code",
   "execution_count": 10,
   "id": "2a6754d3-3e0e-47cf-816e-6537aaf0bf5a",
   "metadata": {},
   "outputs": [
    {
     "name": "stdout",
     "output_type": "stream",
     "text": [
      "makin\n",
      "[('semakin', 0.9333194494247437), ('kian', 0.8476080894470215), ('Makin', 0.7766492366790771), ('bertambah', 0.7598448395729065), ('.semakin', 0.7485570907592773), ('lama-makin', 0.7481653094291687), ('ssemakin', 0.747448205947876), ('lama-semakin', 0.7435525059700012), ('samakin', 0.7406500577926636), ('.makin', 0.7368037700653076)]\n"
     ]
    }
   ],
   "source": [
    "print(model.doesnt_match(\"makin\".split()))\n",
    "print(model.most_similar(\"makin\"))"
   ]
  },
  {
   "cell_type": "code",
   "execution_count": 11,
   "id": "53752e52-81dc-4113-85e7-9b18b6e4ef54",
   "metadata": {},
   "outputs": [
    {
     "name": "stdout",
     "output_type": "stream",
     "text": [
      "sini\n",
      "[('sana', 0.7910782098770142), ('disini', 0.7682884335517883), ('situ', 0.733127236366272), ('sinipun', 0.6901202201843262), ('sini-sini', 0.6765152215957642), ('sini.', 0.6610075235366821), ('sini.Sekarang', 0.6479495763778687), ('sinidi', 0.6370837688446045), ('Disini', 0.635409951210022), ('sini-sana', 0.6346688866615295)]\n"
     ]
    }
   ],
   "source": [
    "print(model.doesnt_match(\"sini\".split()))\n",
    "print(model.most_similar(\"sini\"))"
   ]
  },
  {
   "cell_type": "code",
   "execution_count": 12,
   "id": "5a3296d7-218f-448d-b1f3-e5af48bd629f",
   "metadata": {},
   "outputs": [
    {
     "name": "stdout",
     "output_type": "stream",
     "text": [
      "berat\n",
      "[('beratnya', 0.7547423839569092), ('beratbadan', 0.7139211893081665), ('berberat', 0.7053018808364868), ('berat.2', 0.6862594485282898), ('Berat', 0.6724623441696167), ('bobot', 0.6690089106559753), ('berat.3', 0.6663027405738831), ('ringan', 0.6643283367156982), ('berat.5', 0.6493864059448242), ('bberat', 0.6472181677818298)]\n"
     ]
    }
   ],
   "source": [
    "print(model.doesnt_match(\"berat\".split()))\n",
    "print(model.most_similar(\"berat\"))"
   ]
  },
  {
   "cell_type": "code",
   "execution_count": 13,
   "id": "d7e960e1-7875-43c5-9aa9-da590fecd468",
   "metadata": {},
   "outputs": [
    {
     "name": "stdout",
     "output_type": "stream",
     "text": [
      "aplikasi\n",
      "[('aplikas', 0.8101481795310974), ('apliasi', 0.8081222176551819), ('apliaksi', 0.7961430549621582), ('apliksi', 0.7923033833503723), ('aplikas-aplikasi', 0.7907882332801819), ('aplikasi.Aplikasi', 0.7798150181770325), ('aplikasi-', 0.7788752317428589), ('Aplikasi', 0.7747147679328918), ('aplikasi-aplikasi', 0.7729656100273132), ('aplikasii', 0.7728050947189331)]\n"
     ]
    }
   ],
   "source": [
    "print(model.doesnt_match(\"aplikasi\".split()))\n",
    "print(model.most_similar(\"aplikasi\"))"
   ]
  },
  {
   "cell_type": "code",
   "execution_count": 14,
   "id": "30da3151-8eda-4c1f-8bfd-bca7c7187ff6",
   "metadata": {},
   "outputs": [
    {
     "name": "stdout",
     "output_type": "stream",
     "text": [
      "buka\n",
      "[('membuka', 0.7277454733848572), ('tutup', 0.6870781779289246), ('buka.', 0.6869314908981323), ('Buka', 0.68451327085495), ('dibuka', 0.6799687743186951), ('dbuka', 0.671998143196106), ('bebuka', 0.6650328040122986), ('mebuka', 0.6497105360031128), ('bukanya', 0.644989550113678), ('bukalah', 0.6386024355888367)]\n"
     ]
    }
   ],
   "source": [
    "print(model.doesnt_match(\"buka\".split()))\n",
    "print(model.most_similar(\"buka\"))"
   ]
  },
  {
   "cell_type": "code",
   "execution_count": 15,
   "id": "4227304f-1687-4daa-9070-46fd199ed788",
   "metadata": {},
   "outputs": [
    {
     "name": "stdout",
     "output_type": "stream",
     "text": [
      "lambat\n",
      "[('selambat', 0.7464470267295837), ('cepat', 0.7356210350990295), ('lamban', 0.7265580892562866), ('lambat.', 0.7017168998718262), ('lambat-', 0.7009811997413635), ('lambatnya', 0.6996816396713257), ('melambat', 0.6643505096435547), ('lambat.7.', 0.6641241312026978), ('lambat2', 0.6624072790145874), ('Lambat', 0.6604762673377991)]\n"
     ]
    }
   ],
   "source": [
    "print(model.doesnt_match(\"lambat\".split()))\n",
    "print(model.most_similar(\"lambat\"))"
   ]
  },
  {
   "cell_type": "code",
   "execution_count": 16,
   "id": "100c9173-6896-4b5b-b0a2-c4c3f1ab9365",
   "metadata": {},
   "outputs": [
    {
     "name": "stdout",
     "output_type": "stream",
     "text": [
      "tolong\n",
      "[('Tolong', 0.7883096933364868), (',tolong', 0.7374906539916992), ('.tolong', 0.7374330163002014), ('minta', 0.737001895904541), (',,tolong', 0.7345269322395325), ('mohon', 0.7193199992179871), ('tolong.', 0.6836823225021362), ('tolongan', 0.680260181427002), ('tolonglah', 0.6801486611366272), ('.Tolong', 0.6695020198822021)]\n"
     ]
    }
   ],
   "source": [
    "print(model.doesnt_match(\"tolong\".split()))\n",
    "print(model.most_similar(\"tolong\"))"
   ]
  },
  {
   "cell_type": "code",
   "execution_count": 17,
   "id": "4b9b1529-c85d-49e9-bfe5-262505cf74cb",
   "metadata": {},
   "outputs": [
    {
     "name": "stdout",
     "output_type": "stream",
     "text": [
      "baik\n",
      "[('baikdi', 0.7580913305282593), ('baikm', 0.7455639243125916), ('baikdalam', 0.7449922561645508), ('baikHal', 0.7337225675582886), ('baikyang', 0.7328435182571411), ('baikdari', 0.7274269461631775), ('buruk', 0.7269850969314575), ('baikdan', 0.7218000888824463), ('baikuntuk', 0.701579213142395), ('baikdengan', 0.7012925744056702)]\n"
     ]
    }
   ],
   "source": [
    "print(model.doesnt_match(\"baik\".split()))\n",
    "print(model.most_similar(\"baik\"))"
   ]
  },
  {
   "cell_type": "code",
   "execution_count": 18,
   "id": "4f41422c-d142-472d-a95c-e731d35307cf",
   "metadata": {},
   "outputs": [
    {
     "name": "stdout",
     "output_type": "stream",
     "text": [
      "scan\n",
      "[('scan.', 0.7710260152816772), ('CTscan', 0.7071695327758789), ('scaner', 0.7033801674842834), ('scanning', 0.698681652545929), ('menscan', 0.6961005330085754), ('scannya', 0.6943116188049316), ('di-scan', 0.6809688210487366), ('mscan', 0.6807650923728943), ('scaning', 0.6797863245010376), ('me-scan', 0.6791780591011047)]\n"
     ]
    }
   ],
   "source": [
    "print(model.doesnt_match(\"scan\".split()))\n",
    "print(model.most_similar(\"scan\"))"
   ]
  },
  {
   "cell_type": "code",
   "execution_count": 19,
   "id": "d2c19fa8-7fb0-4608-9ec9-d6ba351dc107",
   "metadata": {},
   "outputs": [
    {
     "name": "stdout",
     "output_type": "stream",
     "text": [
      "barcode\n",
      "[('ber-barcode', 0.7346181273460388), ('Barcode', 0.7065439224243164), ('barcode.', 0.7021653056144714), ('barcodes', 0.684733510017395), ('barcodenya', 0.6632506847381592), ('barcode-nya', 0.6617885231971741), ('barcoding', 0.6242822408676147), ('Sarcode', 0.5968177914619446), ('rcode', 0.5725390911102295), ('bercode', 0.5704178810119629)]\n"
     ]
    }
   ],
   "source": [
    "print(model.doesnt_match(\"barcode\".split()))\n",
    "print(model.most_similar(\"barcode\"))"
   ]
  },
  {
   "cell_type": "code",
   "execution_count": 20,
   "id": "822b0c7a-d80a-4d28-9875-ba2146d414c2",
   "metadata": {},
   "outputs": [
    {
     "name": "stdout",
     "output_type": "stream",
     "text": [
      "habis\n",
      "[('habis.', 0.7530922889709473), ('habis.-', 0.7496895790100098), ('habis.d', 0.7424955368041992), ('habis-', 0.7277435660362244), ('habisa', 0.6811893582344055), ('.habis', 0.6720325946807861), ('habisan', 0.6480974555015564), ('habiss', 0.639934778213501), ('habis.Di', 0.6394835710525513), ('bersisa', 0.6372110843658447)]\n"
     ]
    }
   ],
   "source": [
    "print(model.doesnt_match(\"habis\".split()))\n",
    "print(model.most_similar(\"habis\"))"
   ]
  },
  {
   "cell_type": "code",
   "execution_count": 21,
   "id": "a7fb4a2b-2478-45f2-94bb-48d5374254c0",
   "metadata": {},
   "outputs": [
    {
     "name": "stdout",
     "output_type": "stream",
     "text": [
      "update\n",
      "[('update-update', 0.8090478181838989), ('mengupdate', 0.7924365401268005), ('update-an', 0.7750733494758606), ('updater', 0.75858074426651), ('update.', 0.7478111386299133), ('meng-update', 0.7399617433547974), ('updat', 0.7302315831184387), ('updatean', 0.7261675596237183), ('Update', 0.7253722548484802), ('menupdate', 0.7215182781219482)]\n"
     ]
    }
   ],
   "source": [
    "print(model.doesnt_match(\"update\".split()))\n",
    "print(model.most_similar(\"update\"))"
   ]
  },
  {
   "cell_type": "code",
   "execution_count": 22,
   "id": "e4be49b3-4bf8-4929-96fd-24c1cb8797f5",
   "metadata": {},
   "outputs": [
    {
     "name": "stdout",
     "output_type": "stream",
     "text": [
      "malah\n",
      "[('justru', 0.8707056045532227), ('malahan', 0.816508412361145), ('bukannya', 0.7421053647994995), ('.malah', 0.722324550151825), ('malah-malah', 0.7137183547019958), ('Bukannya', 0.6837309002876282), (',malah', 0.6748982071876526), (',,malah', 0.6661372780799866), ('malah.', 0.6613303422927856), ('jadi', 0.649375855922699)]\n"
     ]
    }
   ],
   "source": [
    "print(model.doesnt_match(\"malah\".split()))\n",
    "print(model.most_similar(\"malah\"))"
   ]
  },
  {
   "cell_type": "code",
   "execution_count": 23,
   "id": "b16e3cc1-6086-4205-a864-6c4a01e49bc4",
   "metadata": {},
   "outputs": [
    {
     "name": "stdout",
     "output_type": "stream",
     "text": [
      "tidak\n",
      "[('tak', 0.8356691598892212), ('dtidak', 0.7936189770698547), ('akan', 0.7722299695014954), ('mtidak', 0.7721061110496521), ('jtidak', 0.771855890750885), ('benar-benar', 0.76614910364151), ('belum', 0.7647430896759033), ('bisa', 0.7642104625701904), ('pun', 0.7582867741584778), ('memang', 0.7553068399429321)]\n"
     ]
    }
   ],
   "source": [
    "print(model.doesnt_match(\"tidak\".split()))\n",
    "print(model.most_similar(\"tidak\"))"
   ]
  },
  {
   "cell_type": "code",
   "execution_count": 24,
   "id": "08704620-64ac-4027-90b3-b8a7f9561bf1",
   "metadata": {},
   "outputs": [
    {
     "name": "stdout",
     "output_type": "stream",
     "text": [
      "bisa\n",
      "[('dapat', 0.8674525618553162), ('bbisa', 0.7978367805480957), ('akan', 0.7881759405136108), ('harus', 0.7644900679588318), ('tidak', 0.7642105221748352), ('bisasaja', 0.7511028051376343), ('dbisa', 0.7476285099983215), ('untukdapat', 0.7473859786987305), ('juga', 0.7467790842056274), ('kbisa', 0.7462331056594849)]\n"
     ]
    }
   ],
   "source": [
    "print(model.doesnt_match(\"bisa\".split()))\n",
    "print(model.most_similar(\"bisa\"))"
   ]
  },
  {
   "cell_type": "code",
   "execution_count": 25,
   "id": "181a7fe1-066a-4fc2-860e-af374b9ab4eb",
   "metadata": {},
   "outputs": [
    {
     "name": "stdout",
     "output_type": "stream",
     "text": [
      "bagus\n",
      "[('bagus.-', 0.7429406642913818), ('bagusdan', 0.7376355528831482), ('bagus-', 0.7351372241973877), ('bagus.', 0.726589560508728), ('bagus2.', 0.7130352854728699), ('bagusa', 0.7051260471343994), ('bagus2an', 0.7037677764892578), ('baguspun', 0.70146244764328), ('baik', 0.7008917331695557), ('bagusjasa', 0.6995376348495483)]\n"
     ]
    }
   ],
   "source": [
    "print(model.doesnt_match(\"bagus\".split()))\n",
    "print(model.most_similar(\"bagus\"))"
   ]
  },
  {
   "cell_type": "code",
   "execution_count": 26,
   "id": "a821a051-1ceb-4b3e-8561-7e23e531a35e",
   "metadata": {},
   "outputs": [
    {
     "name": "stdout",
     "output_type": "stream",
     "text": [
      "susah\n",
      "[('sulit', 0.8038129210472107), ('Susah', 0.7293297052383423), ('gampang', 0.7228803634643555), ('payah', 0.7218063473701477), ('gampang2', 0.716961681842804), ('sukar', 0.7085438370704651), ('susah-', 0.6954619288444519), ('mudah', 0.6832314133644104), ('sulit-sulit', 0.6814954876899719), ('susah2', 0.6670282483100891)]\n"
     ]
    }
   ],
   "source": [
    "print(model.doesnt_match(\"susah\".split()))\n",
    "print(model.most_similar(\"susah\"))"
   ]
  },
  {
   "cell_type": "code",
   "execution_count": 27,
   "id": "c70c2582-2f3b-4c2c-a555-fb3f3702eca7",
   "metadata": {},
   "outputs": [
    {
     "name": "stdout",
     "output_type": "stream",
     "text": [
      "pake\n",
      "[('pakek', 0.7919908165931702), ('pake.', 0.7632476091384888), ('pake-pake', 0.7458686232566833), ('pakein', 0.745108425617218), ('pakei', 0.7420589327812195), ('pakenya', 0.7384425401687622), ('dpake', 0.7048459053039551), ('.pake', 0.7017268538475037), ('pakai', 0.6946309208869934), ('dipake', 0.6878063678741455)]\n"
     ]
    }
   ],
   "source": [
    "print(model.doesnt_match(\"pake\".split()))\n",
    "print(model.most_similar(\"pake\"))"
   ]
  },
  {
   "cell_type": "code",
   "execution_count": 28,
   "id": "49cad5b8-cfb4-4a3d-b742-e7858bc37071",
   "metadata": {},
   "outputs": [
    {
     "name": "stdout",
     "output_type": "stream",
     "text": [
      "sangat\n",
      "[('sangatlah', 0.8768395185470581), ('amat', 0.8547903895378113), ('cukup', 0.8416635990142822), ('sangat-sangat', 0.8179886341094971), ('dsangat', 0.7690391540527344), ('amat-sangat', 0.7672449350357056), ('dangat', 0.7633993029594421), ('sangatb', 0.7579314112663269), ('Sangat', 0.7542398571968079), ('sangatg', 0.7530702948570251)]\n"
     ]
    }
   ],
   "source": [
    "kata='sangat'\n",
    "print(model.doesnt_match(kata.split()))\n",
    "print(model.most_similar(kata))"
   ]
  },
  {
   "cell_type": "code",
   "execution_count": 29,
   "id": "ecfb09c8-97f4-4f19-acb9-37b633b05e01",
   "metadata": {},
   "outputs": [
    {
     "name": "stdout",
     "output_type": "stream",
     "text": [
      "bantu\n",
      "[('bantu.', 0.7121729850769043), ('bantunya', 0.6959753036499023), ('alat', 0.6876977682113647), ('bantun', 0.6843388676643372), ('dbantu', 0.645290195941925), ('bantunnya', 0.6421397924423218), ('bantuna', 0.636234700679779), ('bantu2in', 0.6308778524398804), ('bantuen', 0.6133809089660645), ('bantunan', 0.6089451909065247)]\n"
     ]
    }
   ],
   "source": [
    "kata='bantu'\n",
    "print(model.doesnt_match(kata.split()))\n",
    "print(model.most_similar(kata))"
   ]
  },
  {
   "cell_type": "code",
   "execution_count": 30,
   "id": "7d224ee2-f095-4e6e-b7fa-174318f90f50",
   "metadata": {},
   "outputs": [
    {
     "name": "stdout",
     "output_type": "stream",
     "text": [
      "setiap\n",
      "[('tiap', 0.8872559070587158), ('Setiap', 0.8210783004760742), ('disetiap', 0.7751482129096985), ('semua', 0.728602409362793), ('-tiap', 0.7260310649871826), ('persetiap', 0.7227035760879517), ('tiap-tiap', 0.7177203297615051), ('setiap2', 0.7128891944885254), ('setiapa', 0.7084246873855591), ('untuksetiap', 0.6945658922195435)]\n"
     ]
    }
   ],
   "source": [
    "kata='setiap'\n",
    "print(model.doesnt_match(kata.split()))\n",
    "print(model.most_similar(kata))"
   ]
  },
  {
   "cell_type": "code",
   "execution_count": 31,
   "id": "4c872db9-dcd6-42a7-b12c-18ac11c46bc8",
   "metadata": {},
   "outputs": [
    {
     "name": "stdout",
     "output_type": "stream",
     "text": [
      "laku\n",
      "[('lakunya', 0.8048340678215027), ('tigkah', 0.6734282374382019), ('laku.', 0.6713897585868835), ('laku-laku', 0.6559065580368042), ('tingkah', 0.6482207775115967), ('laku2', 0.6099699139595032), ('laku-', 0.6089188456535339), ('lakuknya', 0.5933029055595398), ('laku-tingkah', 0.5890072584152222), ('laris', 0.5858802199363708)]\n"
     ]
    }
   ],
   "source": [
    "kata='laku'\n",
    "print(model.doesnt_match(kata.split()))\n",
    "print(model.most_similar(kata))"
   ]
  },
  {
   "cell_type": "code",
   "execution_count": 32,
   "id": "28039a25-f297-472b-8d28-798167c7e477",
   "metadata": {},
   "outputs": [
    {
     "name": "stdout",
     "output_type": "stream",
     "text": [
      "jalan\n",
      "[('jalam', 0.7796949148178101), ('Jalan', 0.7133911848068237), ('.jalan', 0.7001004219055176), ('jalanjalan', 0.6969633102416992), ('jalann', 0.6928548216819763), ('jalanmenuju', 0.6875823736190796), ('jalannya', 0.6866520643234253), ('jalur', 0.675997257232666), ('-jalan', 0.6752859950065613), ('dijalan', 0.6747400164604187)]\n"
     ]
    }
   ],
   "source": [
    "kata='jalan'\n",
    "print(model.doesnt_match(kata.split()))\n",
    "print(model.most_similar(kata))"
   ]
  },
  {
   "cell_type": "code",
   "execution_count": 33,
   "id": "1f450608-6664-4e79-a555-8b890f8af52f",
   "metadata": {},
   "outputs": [
    {
     "name": "stdout",
     "output_type": "stream",
     "text": [
      "walau\n",
      "[('walaupun', 0.904549777507782), ('meski', 0.8776246905326843), ('Walau', 0.8292207717895508), ('meskipun', 0.82279372215271), ('namun', 0.799997866153717), ('tapi', 0.7768688201904297), ('Walaupun', 0.7683688402175903), ('walauapun', 0.7588379979133606), ('biarpun', 0.7505517601966858), ('sekalipun', 0.7451006174087524)]\n"
     ]
    }
   ],
   "source": [
    "kata='walau'\n",
    "print(model.doesnt_match(kata.split()))\n",
    "print(model.most_similar(kata))"
   ]
  },
  {
   "cell_type": "code",
   "execution_count": 34,
   "id": "078425cb-dd6f-4b9b-9f60-5858a2647f08",
   "metadata": {},
   "outputs": [
    {
     "name": "stdout",
     "output_type": "stream",
     "text": [
      "kadang\n",
      "[('terkadang', 0.8887092471122742), ('Kadang', 0.8286295533180237), ('seringkali', 0.8158795833587646), ('kadang-kadang', 0.807823657989502), ('kadang-', 0.7907041311264038), ('kadan', 0.7670320272445679), ('kadang-kdang', 0.765723705291748), ('kadangkala', 0.7534335255622864), ('Terkadang', 0.7340954542160034), ('.kadang', 0.7339282035827637)]\n"
     ]
    }
   ],
   "source": [
    "kata='kadang'\n",
    "print(model.doesnt_match(kata.split()))\n",
    "print(model.most_similar(kata))"
   ]
  },
  {
   "cell_type": "code",
   "execution_count": 35,
   "id": "8cbf48da-adcb-4643-b29f-fc49aebdf8c3",
   "metadata": {},
   "outputs": [
    {
     "name": "stdout",
     "output_type": "stream",
     "text": [
      "proses\n",
      "[('Proses', 0.7983332276344299), ('peoses', 0.7960665225982666), ('prosesproses', 0.7904608249664307), ('.proses', 0.7842952013015747), ('pproses', 0.7791085839271545), ('prosese', 0.7769403457641602), ('proses-', 0.7680805921554565), ('keproses', 0.7660998106002808), ('peroses', 0.7491694688796997), ('suatuproses', 0.7378928065299988)]\n"
     ]
    }
   ],
   "source": [
    "kata='proses'\n",
    "print(model.doesnt_match(kata.split()))\n",
    "print(model.most_similar(kata))"
   ]
  },
  {
   "cell_type": "code",
   "execution_count": 36,
   "id": "4d696704-ceb2-42e1-9e6e-2f4a63d97631",
   "metadata": {},
   "outputs": [
    {
     "name": "stdout",
     "output_type": "stream",
     "text": [
      "kembang\n",
      "[('api-kembang', 0.6871213316917419), ('kembangnya', 0.68008953332901), ('Kembang', 0.6433912515640259), ('kembang.', 0.632927417755127), ('-kembang', 0.6028428673744202), ('kembangé', 0.5974258780479431), ('kembang-kembang', 0.5909086465835571), ('kemban', 0.5802487730979919), ('setaman', 0.560221254825592), ('kembang2', 0.5571901798248291)]\n"
     ]
    }
   ],
   "source": [
    "kata='kembang'\n",
    "print(model.doesnt_match(kata.split()))\n",
    "print(model.most_similar(kata))"
   ]
  },
  {
   "cell_type": "code",
   "execution_count": 37,
   "id": "792e74fd-92e2-4662-ad4b-cadc4dda3f54",
   "metadata": {},
   "outputs": [
    {
     "name": "stdout",
     "output_type": "stream",
     "text": [
      "terus\n",
      "[('menerus', 0.8193193078041077), ('terus-menerus', 0.7476441860198975), (',,terus', 0.6966499090194702), ('terus0menerus', 0.6936840415000916), ('terusberkembang', 0.6936089992523193), ('terus-', 0.6829593181610107), ('tetap', 0.6826143860816956), ('yangterus', 0.6804139018058777), ('berlanjut', 0.6757919192314148), ('selalu', 0.6757084727287292)]\n"
     ]
    }
   ],
   "source": [
    "kata='terus'\n",
    "print(model.doesnt_match(kata.split()))\n",
    "print(model.most_similar(kata))"
   ]
  },
  {
   "cell_type": "code",
   "execution_count": 38,
   "id": "d090e152-50f0-43c2-9500-1466aea6758a",
   "metadata": {},
   "outputs": [
    {
     "name": "stdout",
     "output_type": "stream",
     "text": [
      "fungsi\n",
      "[('fungsi-fungsi', 0.8000438809394836), ('fungsinya', 0.7963662147521973), ('fungsi-', 0.792387843132019), ('fungsifungsi', 0.7876414656639099), ('fungs-fungsi', 0.7680233716964722), ('-fungsi', 0.749800980091095), ('fungsi2', 0.7398621439933777), ('fungs', 0.7389650344848633), ('fungsin', 0.732428789138794), ('Fungsi', 0.7233833074569702)]\n"
     ]
    }
   ],
   "source": [
    "kata='fungsi'\n",
    "print(model.doesnt_match(kata.split()))\n",
    "print(model.most_similar(kata))"
   ]
  },
  {
   "cell_type": "code",
   "execution_count": 39,
   "id": "9270c48d-410c-4eb6-a54b-444a7b6859a1",
   "metadata": {},
   "outputs": [
    {
     "name": "stdout",
     "output_type": "stream",
     "text": [
      "algoritmatik\n",
      "[('algoritmas', 0.8537652492523193), ('algoritma-algoritma', 0.8216171264648438), ('algoritma.', 0.8162147998809814), ('algoritmenya', 0.7760739326477051), ('algoritm', 0.7601398825645447), ('algoritme-algoritme', 0.7578845024108887), ('algoritmi', 0.7544065117835999), ('Algoritme-algoritme', 0.7340560555458069), ('sub-algoritme', 0.7330309748649597), ('algoritmis', 0.7250305414199829)]\n"
     ]
    }
   ],
   "source": [
    "kata='algoritmatik'\n",
    "print(model.doesnt_match(kata.split()))\n",
    "print(model.most_similar(kata))"
   ]
  },
  {
   "cell_type": "code",
   "execution_count": null,
   "id": "8c105bad-1a08-4acb-a4ff-7711ca27a50f",
   "metadata": {},
   "outputs": [],
   "source": []
  }
 ],
 "metadata": {
  "kernelspec": {
   "display_name": "Python 3 (ipykernel)",
   "language": "python",
   "name": "python3"
  },
  "language_info": {
   "codemirror_mode": {
    "name": "ipython",
    "version": 3
   },
   "file_extension": ".py",
   "mimetype": "text/x-python",
   "name": "python",
   "nbconvert_exporter": "python",
   "pygments_lexer": "ipython3",
   "version": "3.9.7"
  }
 },
 "nbformat": 4,
 "nbformat_minor": 5
}
